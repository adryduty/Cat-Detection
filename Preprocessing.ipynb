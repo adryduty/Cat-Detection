{
  "nbformat": 4,
  "nbformat_minor": 0,
  "metadata": {
    "colab": {
      "name": "Preprocessing.ipynb",
      "provenance": [],
      "collapsed_sections": [
        "p8vsWCI3zM42",
        "J881I4VC1YNb"
      ],
      "authorship_tag": "ABX9TyMLESpG7jYg9I8PRWv9F6nx",
      "include_colab_link": true
    },
    "kernelspec": {
      "name": "python3",
      "display_name": "Python 3"
    },
    "language_info": {
      "name": "python"
    }
  },
  "cells": [
    {
      "cell_type": "markdown",
      "metadata": {
        "id": "view-in-github",
        "colab_type": "text"
      },
      "source": [
        "<a href=\"https://colab.research.google.com/github/adryduty/demo-repo/blob/main/Preprocessing.ipynb\" target=\"_parent\"><img src=\"https://colab.research.google.com/assets/colab-badge.svg\" alt=\"Open In Colab\"/></a>"
      ]
    },
    {
      "cell_type": "markdown",
      "source": [
        "# Load modules"
      ],
      "metadata": {
        "id": "aaOJ1RgJ1RdZ"
      }
    },
    {
      "cell_type": "code",
      "execution_count": 7,
      "metadata": {
        "id": "6VQN1RzVzDv7"
      },
      "outputs": [],
      "source": [
        "from IPython.display import display, Javascript\n",
        "from google.colab.output import eval_js\n",
        "from base64 import b64decode\n",
        "import io\n",
        "import numpy as np    \n",
        "from PIL import Image\n",
        "import pickle\n",
        "from google.colab import files, drive\n",
        "import matplotlib.pyplot as plt\n",
        "import matplotlib.ticker as plticker\n",
        "import time\n",
        "import matplotlib.patches as patches\n",
        "import tensorflow as tf\n",
        "import pandas as pd\n",
        "import os\n",
        "import shutil\n",
        "from math import floor\n",
        "from sklearn.model_selection import train_test_split"
      ]
    },
    {
      "cell_type": "markdown",
      "source": [
        "# Here we are going to create some functions to take and save photos and to use them as input\n",
        "\n",
        "### Almost all the lines of code there are here need to be run just one time (after that you just work with the pictures you saved)."
      ],
      "metadata": {
        "id": "p8vsWCI3zM42"
      }
    },
    {
      "cell_type": "code",
      "source": [
        "def take_photo(filename='photo.jpg', quality=0.8):\n",
        "  '''\n",
        "  This function creates a javascript function that takes a picture every 4000 milliseconds. \n",
        "  After that it displays the taken picture in the quality determined as argument, decode the picture in Base64 (binary) \n",
        "  and eventually returns the picture in binary.\n",
        "  '''\n",
        "  js = Javascript('''\n",
        "    async function takePhoto(quality) {\n",
        "      const div = document.createElement('div');\n",
        "      \n",
        "      const video = document.createElement('video');\n",
        "      video.style.display = 'block';\n",
        "      const stream = await navigator.mediaDevices.getUserMedia({video: true});\n",
        "\n",
        "      document.body.appendChild(div);\n",
        "      div.appendChild(video);\n",
        "      video.srcObject = stream;\n",
        "      await video.play();\n",
        "\n",
        "      // Resize the output to fit the video element.\n",
        "      google.colab.output.setIframeHeight(document.documentElement.scrollHeight, true);\n",
        "\n",
        "      \n",
        "      await new Promise(r => setTimeout(r, 4000));\n",
        "\n",
        "      const canvas = document.createElement('canvas');\n",
        "      canvas.width = video.videoWidth;\n",
        "      canvas.height = video.videoHeight;\n",
        "      canvas.getContext('2d').drawImage(video, 0, 0);\n",
        "      stream.getVideoTracks()[0].stop();\n",
        "      div.remove();\n",
        "      return canvas.toDataURL('image/jpeg', quality);\n",
        "    }\n",
        "    ''')\n",
        "  display(js)\n",
        "  data = eval_js('takePhoto({})'.format(quality))\n",
        "  binary = b64decode(data.split(',')[1])\n",
        "  return binary"
      ],
      "metadata": {
        "id": "Z2Uvcs3gzRmk"
      },
      "execution_count": null,
      "outputs": []
    },
    {
      "cell_type": "code",
      "source": [
        "def binary_to_numpy(binary):\n",
        "  '''\n",
        "  This function takes a picture coded in binary and transforms it as numpy array.\n",
        "  '''\n",
        "  img = Image.open(io.BytesIO(binary))\n",
        "  # display(img)\n",
        "  np_array = np.asarray(img)\n",
        "  return np_array"
      ],
      "metadata": {
        "id": "xo4xnK9DzRkc"
      },
      "execution_count": null,
      "outputs": []
    },
    {
      "cell_type": "code",
      "source": [
        "# drive.mount('/content/drive')"
      ],
      "metadata": {
        "id": "uJUt-m_WzRiJ"
      },
      "execution_count": null,
      "outputs": []
    },
    {
      "cell_type": "markdown",
      "source": [
        "* Assign an empty list to photo_array (it will take the numpy arrays of the pictures);\n",
        "* Decide how many pictures to take and assign this number to num_of_pictures_to_take;\n",
        "* Iterate num_of_pictures_to_take times and every time append the taken picture (in numpy array) in the photo_array.\n",
        "* If the user doesn't have a webcam or if he doesn't grant the page permission to access it, return an error."
      ],
      "metadata": {
        "id": "ukAfiBzCzY4a"
      }
    },
    {
      "cell_type": "code",
      "source": [
        "photo_array = []\n",
        "num_of_pictures_to_take = 8\n",
        "\n",
        "for i in range(num_of_pictures_to_take):\n",
        "  try:\n",
        "    binary = take_photo()\n",
        "    photo_array.append(binary_to_numpy(binary))\n",
        "    \n",
        "  except Exception as err:\n",
        "    # Errors will be thrown if the user does not have a webcam or if they do not\n",
        "    # grant the page permission to access it.\n",
        "    print(str(err))"
      ],
      "metadata": {
        "id": "TRmPOhUszRfv"
      },
      "execution_count": null,
      "outputs": []
    },
    {
      "cell_type": "code",
      "source": [
        "def show_image(np_array):\n",
        "  '''\n",
        "  This function takes a numpy array and displays the image relative to this numpy array.\n",
        "  '''\n",
        "  display(Image.fromarray(np_array))"
      ],
      "metadata": {
        "id": "mb6Gw_TrzRdZ"
      },
      "execution_count": null,
      "outputs": []
    },
    {
      "cell_type": "code",
      "source": [
        "# Display all the images in photo_array.\n",
        "for e in photo_array:\n",
        "  show_image(e)"
      ],
      "metadata": {
        "id": "PCWTRGxYzRbD"
      },
      "execution_count": null,
      "outputs": []
    },
    {
      "cell_type": "code",
      "source": [
        "len(photo_array)"
      ],
      "metadata": {
        "id": "-CcRdt-IzRYf"
      },
      "execution_count": null,
      "outputs": []
    },
    {
      "cell_type": "code",
      "source": [
        "def save_in_local(sample_list, file_name):\n",
        "  '''\n",
        "  This function opens a file in the google colab and downloads it locally as pkl file (at the beginning\n",
        "  the taken pictures where on colab and so we needed to save them locally. We decided to store them as pkl \n",
        "  to save some space but it wasn't so efficient)\n",
        "  '''\n",
        "  file_name = \"/content/\" + file_name + \".pkl\"\n",
        "  open_file = open(file_name, \"wb\")\n",
        "  pickle.dump(sample_list, open_file)\n",
        "  open_file.close()\n",
        "  files.download(file_name)\n",
        "\n",
        "\n",
        "def read_from_local(file_name):\n",
        "  '''\n",
        "  This function takes a file from colab (so you need to upload the file from the disk to colab) and loads it\n",
        "  '''\n",
        "  file_name = \"/content/\" + file_name + \".pkl\"\n",
        "  open_file = open(file_name, \"rb\")\n",
        "  loaded_list = pickle.load(open_file)\n",
        "  open_file.close()\n",
        "  return loaded_list"
      ],
      "metadata": {
        "id": "78wLhVoKzRWI"
      },
      "execution_count": null,
      "outputs": []
    },
    {
      "cell_type": "code",
      "source": [
        "save_in_local(photo_array, \"PELUCHE_LUCE3\")"
      ],
      "metadata": {
        "id": "IFcJiSf_zgij"
      },
      "execution_count": null,
      "outputs": []
    },
    {
      "cell_type": "code",
      "source": [
        "lista = read_from_local(\"GHIRI_LUCE2\")"
      ],
      "metadata": {
        "id": "J6RJ0znCzgge"
      },
      "execution_count": null,
      "outputs": []
    },
    {
      "cell_type": "markdown",
      "source": [
        "# Labelling (bounding box)\n",
        "### The idea is to create a 20x20 grid on the image to choose the rectangle around Ghiri (you just need to choose the upper left square and the bottom right square).\n",
        "#### Notice that the considered images are resized to 416x416"
      ],
      "metadata": {
        "id": "J881I4VC1YNb"
      }
    },
    {
      "cell_type": "code",
      "source": [
        "def label_maker(upper_left, bottom_right, n_cells):\n",
        "  '''\n",
        "  CONSIDER THAT YOU HAVE A 20x20 MATRIX AND THAT THE PIXELS ARE NORMALIZED TO 1 (they go from 0 to 1)\n",
        "\n",
        "  This function takes the upper left and the bottom right squares as input and returns:\n",
        "  - 0 (indicating the class: here is just 0 because we have just Ghiri)\n",
        "  - X_c (X coordinate of the center of the bounding box)\n",
        "  - Y_C (Y coordinate of the center of the bounding box)\n",
        "  - Width of the bounding box\n",
        "  - Height of the buonding box\n",
        "  '''\n",
        "  \n",
        "  if (bottom_right % n_cells) < (upper_left % n_cells):\n",
        "    print(\"Wrong input\")\n",
        "    \n",
        "  elif (upper_left // n_cells) > (bottom_right // n_cells):\n",
        "    print(\"Wrong input\")\n",
        "\n",
        "  else:\n",
        "    num_squares_height = 1 + (bottom_right - upper_left) // n_cells\n",
        "    height = num_squares_height / n_cells\n",
        "\n",
        "    num_squares_width = 1 + (bottom_right - upper_left) % n_cells\n",
        "    width = num_squares_width / n_cells \n",
        "    x_a = (upper_left % n_cells + 0.5) / n_cells\n",
        "    y_a = (upper_left // n_cells + 0.5) / n_cells\n",
        "\n",
        "    x_b = (bottom_right % n_cells + 0.5) / n_cells\n",
        "    y_b = (bottom_right // n_cells + 0.5) / n_cells\n",
        "\n",
        "    x_c = (x_a + x_b)/2\n",
        "    y_c = (y_a + y_b)/2\n",
        "\n",
        "    return 0, x_c, y_c, width, height \n"
      ],
      "metadata": {
        "id": "ijYK43mrz7zB"
      },
      "execution_count": null,
      "outputs": []
    },
    {
      "cell_type": "code",
      "source": [
        "# This is a 10x10 grid for just understanding how the above function works\n",
        "np.arange(10)+np.arange(0,100,10)[:,np.newaxis]"
      ],
      "metadata": {
        "id": "9kRKo_4H0ND_"
      },
      "execution_count": null,
      "outputs": []
    },
    {
      "cell_type": "code",
      "source": [
        "label_maker(15,43,10)"
      ],
      "metadata": {
        "id": "e3FMmRcs0NGE"
      },
      "execution_count": null,
      "outputs": []
    },
    {
      "cell_type": "code",
      "source": [
        "def grid_image(google_path_image):\n",
        "  '''\n",
        "  This function takes as input the google path of the image you want to apply the grid onto.\n",
        "  The output is the picture with the squares. \n",
        "  '''\n",
        "  # Open image file\n",
        "  img = Image.open(google_path_image)\n",
        "  my_dpi=416.\n",
        "\n",
        "  img = img.resize(size=(416, 416))\n",
        "\n",
        "  # Set up figure\n",
        "  fig=plt.figure(figsize=(float(img.size[0])/my_dpi,float(img.size[1])/my_dpi),dpi=my_dpi)\n",
        "  ax=fig.add_subplot(111)\n",
        "\n",
        "  # Remove whitespace from around the image\n",
        "  fig.subplots_adjust(left=0,right=1,bottom=0,top=1)\n",
        "\n",
        "  # Set the gridding interval: here we use the major tick interval\n",
        "  myInterval= 20.8\n",
        "  loc = plticker.MultipleLocator(base=myInterval)\n",
        "  ax.xaxis.set_major_locator(loc)\n",
        "  ax.yaxis.set_major_locator(loc)\n",
        "\n",
        "  ax.tick_params(axis='x', colors=(0,0,0,0))\n",
        "  ax.tick_params(axis='y', colors=(0,0,0,0))\n",
        "\n",
        "  # Remove the borders \n",
        "  ax.spines['top'].set_visible(False) \n",
        "  ax.spines['right'].set_visible(False) \n",
        "  ax.spines['left'].set_visible(False)\n",
        "  ax.spines['bottom'].set_visible(False)\n",
        "\n",
        "  # Add the grid\n",
        "  ax.grid(which='major', axis='both', linestyle='-', linewidth=0.1)\n",
        "\n",
        "  # Add the image\n",
        "  ax.imshow(img)\n",
        "\n",
        "  # Find number of gridsquares in x and y direction\n",
        "  nx=abs(int(float(ax.get_xlim()[1]-ax.get_xlim()[0])/float(myInterval)))\n",
        "  ny=abs(int(float(ax.get_ylim()[1]-ax.get_ylim()[0])/float(myInterval)))\n",
        "\n",
        "  # Add some labels to the gridsquares\n",
        "  for j in range(ny):\n",
        "      y=myInterval/2+j * myInterval\n",
        "      for i in range(nx):\n",
        "          x=myInterval/2.+float(i) * myInterval\n",
        "          ax.text(x,y,'{:d}'.format(i+j*nx),color='w',ha='center',va='center', fontsize=1.4)\n",
        "\n",
        "  plt.show()\n",
        "\n",
        "grid_image('/content/27GHIRI.jpg')"
      ],
      "metadata": {
        "id": "2zirhcbo0NB5"
      },
      "execution_count": null,
      "outputs": []
    },
    {
      "cell_type": "code",
      "source": [
        "# THIS IS JUST A CHUNK FOR UNDERSTANDING WHAT'S NEXT (DRAWING A RECTANGLE AROUND GHIRI)\n",
        "\n",
        "im = Image.open('/content/27GHIRI.jpg')\n",
        "im = im.resize(size=(416,416))\n",
        "\n",
        "# Create figure and axes\n",
        "fig, ax = plt.subplots()\n",
        "\n",
        "# Display the image\n",
        "ax.imshow(im)\n",
        "\n",
        "# Create a Rectangle patch\n",
        "rect = patches.Rectangle((0.55*416, 0.75*416), 0.25*416, 0.2*416, linewidth=1, edgecolor='r', facecolor='none')\n",
        "\n",
        "# Add the patch to the Axes\n",
        "ax.add_patch(rect)\n",
        "\n",
        "plt.show()"
      ],
      "metadata": {
        "id": "j02aAAnk1n5w"
      },
      "execution_count": null,
      "outputs": []
    },
    {
      "cell_type": "code",
      "source": [
        "def rectangle_coordinates(x_c, y_c, width, height):\n",
        "  '''\n",
        "  This function takes the coordinates of the rectangle's center and the width and the height of a\n",
        "  rectangle and returns the coordinates of the rectangle's bottom left angle and the width and the height\n",
        "  multiplied by 416. \n",
        "  \n",
        "  These coordinates will be important to make the rectangle (see the rectangle_maker function)\n",
        "  '''\n",
        "\n",
        "  x_bottom_left_angle = (x_c - width/2)*416\n",
        "\n",
        "  y_bottom_left_angle = (y_c - height/2)*416\n",
        "\n",
        "  width = width * 416\n",
        "\n",
        "  height = height * 416\n",
        "\n",
        "  return x_bottom_left_angle, y_bottom_left_angle, width, height\n",
        "\n"
      ],
      "metadata": {
        "id": "585Hzx7o1n3q"
      },
      "execution_count": null,
      "outputs": []
    },
    {
      "cell_type": "code",
      "source": [
        "def rectangle_maker(google_path_image, x_c, y_c, width, height):\n",
        "\n",
        "  '''\n",
        "  This function takes a picture saved in colab, the coordinates of the centers of a rectangle, its width and its height.\n",
        "  It returns the image with the rectangle around Ghiri and also saved it on colab\n",
        "  '''\n",
        "\n",
        "  im = Image.open(google_path_image)\n",
        "  im = im.resize(size=(416,416))\n",
        "\n",
        "  # Create figure and axes\n",
        "  fig, ax = plt.subplots()\n",
        "  \n",
        "  x_left_angle, y_left_angle, denorm_width, denorm_height = rectangle_coordinates(x_c, y_c, width, height)\n",
        "  \n",
        "  # Create a Rectangle patch\n",
        "  rect = patches.Rectangle((x_left_angle, y_left_angle), denorm_width, denorm_height, linewidth=1, edgecolor='r', facecolor='none')\n",
        "\n",
        "  # Add the patch to the Axes\n",
        "  ax.add_patch(rect)\n",
        "\n",
        "  ax.tick_params(axis='x', colors=(0,0,0,0))\n",
        "  ax.tick_params(axis='y', colors=(0,0,0,0))\n",
        "\n",
        "  # Remove the borders \n",
        "  ax.spines['top'].set_visible(False) \n",
        "  ax.spines['right'].set_visible(False) \n",
        "  ax.spines['left'].set_visible(False)\n",
        "  ax.spines['bottom'].set_visible(False)\n",
        "\n",
        "  # Display the image\n",
        "  ax.imshow(im)\n",
        "\n",
        "  plt.savefig('/' + google_path_image.split(\"/\")[1]+'/with_rectangle_'+google_path_image.split(\"/\")[2])\n"
      ],
      "metadata": {
        "id": "isFVYTDi1n1l"
      },
      "execution_count": null,
      "outputs": []
    },
    {
      "cell_type": "code",
      "source": [
        "rectangle_maker('/content/27GHIRI.jpg', 0.6499999999999999, 0.8500000000000001, 0.25, 0.2)"
      ],
      "metadata": {
        "id": "tWZvqBP01nzg"
      },
      "execution_count": null,
      "outputs": []
    },
    {
      "cell_type": "markdown",
      "source": [
        "### Let's create a list with all the names of the pictures saved on colab (by hand)"
      ],
      "metadata": {
        "id": "0sjCW-G96Xxi"
      }
    },
    {
      "cell_type": "code",
      "source": [
        "path_list = []\n",
        "numbers = ['00','01', '02', '03', '04','05','06','07','08','09',10,11,12,13,14,15,16,17,20,21,22,23,\n",
        "             24,25,26,27,28,29,30,31,32,33,34,35,36,37,38,39,'010','011','012','013','014','015','016','017',\n",
        "             210,211,212,213,214,310,311,312,313]\n",
        "for number in numbers:\n",
        "  path_list.append(\"/content/\" + str(number) + \"GHIRI.jpg\")"
      ],
      "metadata": {
        "id": "U64RAmPj1nxf"
      },
      "execution_count": null,
      "outputs": []
    },
    {
      "cell_type": "markdown",
      "source": [
        "### The following chunk allows the user to insert the upper left and the bottom right squares to make the rectangles and so FOR LABELING. The labels will be stored into the **label_vector** list.\n",
        "\n",
        "#### Each label will be an array **['google_path', 'label', 'x_c', 'y_c', 'width', 'height']**"
      ],
      "metadata": {
        "id": "HFGLLYto6l3N"
      }
    },
    {
      "cell_type": "code",
      "source": [
        "label_vector = []\n",
        "\n",
        "for path in path_list:\n",
        "\n",
        "  grid_image(path)\n",
        "\n",
        "  time.sleep(3)\n",
        "\n",
        "  upper_left = int(input(\"insert upper left square: \"))\n",
        "\n",
        "  bottom_right = int(input(\"insert bottom right square: \"))\n",
        "  \n",
        "  label, x_c, y_c, width, height = label_maker(upper_left, bottom_right, 20)\n",
        "\n",
        "  label_vector.append([path, label, x_c, y_c, width, height])\n",
        "\n",
        "  rectangle_maker(path, x_c, y_c, width, height)"
      ],
      "metadata": {
        "id": "ViT0M2_-0M9j"
      },
      "execution_count": null,
      "outputs": []
    },
    {
      "cell_type": "markdown",
      "source": [
        "### Transform the label_vecor into a dataframe and store it as csv "
      ],
      "metadata": {
        "id": "Hbmv8dbt7N-a"
      }
    },
    {
      "cell_type": "code",
      "source": [
        "label_dataframe = pd.DataFrame(label_vector, columns = ['google_path', 'label', 'x_c', 'y_c', 'width', 'height'])\n",
        "label_dataframe.to_csv('/content/label_dataframe.csv', index = False )"
      ],
      "metadata": {
        "id": "CLe34XKx1zcm"
      },
      "execution_count": null,
      "outputs": []
    },
    {
      "cell_type": "markdown",
      "source": [
        "# Augmentation and new labelling\n",
        "\n",
        "### The idea is to apply to each of the 55 images, first just saturation augmentation, then just brightness augmentation and finally both together. Every time you need to upload the label vector and eventually you have to download as csv the data frame of the new label vector.\n",
        "\n",
        "#### The final label vector will have 220 rows"
      ],
      "metadata": {
        "id": "RI-DGVrz1-wU"
      }
    },
    {
      "cell_type": "code",
      "source": [
        "path_list = []\n",
        "numbers = ['00','01', '02', '03', '04','05','06','07','08','09',10,11,12,13,14,15,16,17,20,21,22,23,\n",
        "             24,25,26,27,28,29,30,31,32,33,34,35,36,37,38,39,'010','011','012','013','014','015','016','017',\n",
        "             210,211,212,213,214,310,311,312,313]\n",
        "for number in numbers:\n",
        "  path_list.append(\"/content/\" + str(number) + \"GHIRI.jpg\")"
      ],
      "metadata": {
        "id": "P3cjBT3J1zai"
      },
      "execution_count": null,
      "outputs": []
    },
    {
      "cell_type": "code",
      "source": [
        "def sat_aug(original, saturation=0):\n",
        "   s = tf.image.adjust_saturation(original, saturation)\n",
        "   return s \n",
        "\n",
        "def brght_aug(original, brightness=0):\n",
        "   b = tf.image.adjust_brightness(original, brightness)\n",
        "   return b"
      ],
      "metadata": {
        "id": "Sz1nTWIY1zYb"
      },
      "execution_count": null,
      "outputs": []
    },
    {
      "cell_type": "markdown",
      "source": [
        "### In the next chunk we apply the saturation augmentation to all the 55 images as numpy array and we store them in the arr_s_aug_list list"
      ],
      "metadata": {
        "id": "31THI6jc8cmP"
      }
    },
    {
      "cell_type": "code",
      "source": [
        "arr_s_aug_list = []\n",
        "\n",
        "for image_path in path_list:\n",
        "  arr_img = np.asarray(Image.open(image_path))\n",
        "  arr_img_s_aug = sat_aug(arr_img, saturation=5)\n",
        "  arr_s_aug_list.append(arr_img_s_aug)"
      ],
      "metadata": {
        "id": "Glumvsdq1zV1"
      },
      "execution_count": null,
      "outputs": []
    },
    {
      "cell_type": "markdown",
      "source": [
        "### Before running the following chunk, you need to create a s_aug directory inside the content directory. In this chunk we store the paths for the augmented images (with just saturation)"
      ],
      "metadata": {
        "id": "i0ATPwfs80uz"
      }
    },
    {
      "cell_type": "code",
      "source": [
        "path_list_s_aug = []\n",
        "numbers = ['00','01', '02', '03', '04','05','06','07','08','09',10,11,12,13,14,15,16,17,20,21,22,23,\n",
        "             24,25,26,27,28,29,30,31,32,33,34,35,36,37,38,39,'010','011','012','013','014','015','016','017',\n",
        "             210,211,212,213,214,310,311,312,313]\n",
        "for number in numbers:\n",
        "  path_list_s_aug.append(\"/content/s_aug/\" + str(number) + \"GHIRI_s_aug.jpg\")"
      ],
      "metadata": {
        "id": "8fFdT2Fo1zTs"
      },
      "execution_count": null,
      "outputs": []
    },
    {
      "cell_type": "markdown",
      "source": [
        "### In the next chunk we iterate for 55 times (the number of the new augmented images) and every time we take a path from path_list_s_aug (where all the new names are stored) and we save the array in image format in the specified path"
      ],
      "metadata": {
        "id": "-m4I0tZl9OB_"
      }
    },
    {
      "cell_type": "code",
      "source": [
        "for element in range(len(path_list_s_aug)):\n",
        "  path = path_list_s_aug[element]\n",
        "  Image.fromarray(np.array(arr_s_aug_list[element])).save(path)"
      ],
      "metadata": {
        "id": "msMrcqJv1zRd"
      },
      "execution_count": null,
      "outputs": []
    },
    {
      "cell_type": "markdown",
      "source": [
        "### The following two chunks create a zip of the pictures in the /content/s_aug path (the name of the zip is /content/s_aug.zip). The download the zip."
      ],
      "metadata": {
        "id": "U_K6zZGr_CIx"
      }
    },
    {
      "cell_type": "code",
      "source": [
        "!zip -r /content/s_aug.zip /content/s_aug"
      ],
      "metadata": {
        "id": "5tFHXJitz7uq"
      },
      "execution_count": null,
      "outputs": []
    },
    {
      "cell_type": "code",
      "source": [
        "files.download('/content/s_aug.zip')"
      ],
      "metadata": {
        "id": "ebgkuzSP2J5k"
      },
      "execution_count": null,
      "outputs": []
    },
    {
      "cell_type": "markdown",
      "source": [
        "### CONTINUEEEEEEEEE"
      ],
      "metadata": {
        "id": "KxBfRpb2_3kh"
      }
    },
    {
      "cell_type": "code",
      "source": [
        ""
      ],
      "metadata": {
        "id": "d7GVZ22S_7xB"
      },
      "execution_count": null,
      "outputs": []
    },
    {
      "cell_type": "markdown",
      "source": [
        "# Recreating all the directories of roboflow before applying the yolov5"
      ],
      "metadata": {
        "id": "JRj5CQnY_8TX"
      }
    },
    {
      "cell_type": "markdown",
      "source": [
        "### The following chunk creates empty folders"
      ],
      "metadata": {
        "id": "W42bDjBiAwNR"
      }
    },
    {
      "cell_type": "code",
      "source": [
        "path = \"/content/Gatti-1\"\n",
        "os.mkdir(path)\n",
        "\n",
        "path = \"/content/Gatti-1/test\"\n",
        "os.mkdir(path)\n",
        "path = \"/content/Gatti-1/validation\"\n",
        "os.mkdir(path)\n",
        "path = \"/content/Gatti-1/training\"\n",
        "os.mkdir(path)\n",
        "\n",
        "path = \"/content/Gatti-1/test/images\"\n",
        "os.mkdir(path)\n",
        "path = \"/content/Gatti-1/validation/images\"\n",
        "os.mkdir(path)\n",
        "path = \"/content/Gatti-1/training/images\"\n",
        "os.mkdir(path)\n",
        "\n",
        "path = \"/content/Gatti-1/test/labels\"\n",
        "os.mkdir(path)\n",
        "path = \"/content/Gatti-1/validation/labels\"\n",
        "os.mkdir(path)\n",
        "path = \"/content/Gatti-1/training/labels\"\n",
        "os.mkdir(path)\n"
      ],
      "metadata": {
        "id": "lJB2JOTJAOvC"
      },
      "execution_count": 3,
      "outputs": []
    },
    {
      "cell_type": "code",
      "source": [
        "def file_path_changer(source, dest): \n",
        "  '''\n",
        "  This function moves the files from the path 'source' to the path 'dest'\n",
        "  '''\n",
        "  shutil.move(source, dest)\n"
      ],
      "metadata": {
        "id": "TB15XCT6AOsq"
      },
      "execution_count": 5,
      "outputs": []
    },
    {
      "cell_type": "code",
      "source": [
        "df = pd.read_csv(\"/content/label_dataframe.csv\")"
      ],
      "metadata": {
        "id": "qCtTt-GMAOqq"
      },
      "execution_count": 8,
      "outputs": []
    },
    {
      "cell_type": "code",
      "source": [
        "#splitting pandas dataframe into training, validation and test\n",
        "\n",
        "training_dim, validation_dim, test_dim = 0.8, 0.15, 0.05\n",
        "\n",
        "tresholds = [training_dim, training_dim + validation_dim]\n",
        "\n",
        "df_len = len(df)\n",
        "\n",
        "indexes = np.arange(df_len)\n",
        "\n",
        "np.random.shuffle(indexes)\n",
        "\n",
        "training_indexes = indexes[:floor(tresholds[0]*df_len)]\n",
        "\n",
        "validation_indexes = indexes[floor(tresholds[0]*df_len):floor(tresholds[1]*df_len)]\n",
        "\n",
        "test_indexes = indexes[floor(tresholds[1]*df_len):]\n",
        "\n",
        "print(len(training_indexes), len(validation_indexes), len(test_indexes))\n",
        "\n",
        "training_labels = df.iloc[training_indexes,1:].values\n",
        "\n",
        "validation_labels = df.iloc[validation_indexes,1:].values\n",
        "\n",
        "test_labels = df.iloc[test_indexes,1:].values\n",
        "\n",
        "training_im_list = df.iloc[training_indexes,0]\n",
        "\n",
        "validation_im_list = df.iloc[validation_indexes,0]\n",
        "\n",
        "test_im_list = df.iloc[test_indexes,0]"
      ],
      "metadata": {
        "colab": {
          "base_uri": "https://localhost:8080/"
        },
        "id": "4RrwhaeiAOoW",
        "outputId": "87a8091b-0557-481d-ea33-4e3375a384f6"
      },
      "execution_count": 9,
      "outputs": [
        {
          "output_type": "stream",
          "name": "stdout",
          "text": [
            "44 8 3\n"
          ]
        }
      ]
    },
    {
      "cell_type": "code",
      "source": [
        "# YOU CAN MAKE THE PREVIOUS CHUNK EASIER WITH train_test_split from sklearn.model_selection"
      ],
      "metadata": {
        "id": "LJK7dfQ_A9kO"
      },
      "execution_count": null,
      "outputs": []
    },
    {
      "cell_type": "markdown",
      "source": [
        "### The following chunk saves labels and image names in the proper folders"
      ],
      "metadata": {
        "id": "FxzISc5SBmj6"
      }
    },
    {
      "cell_type": "code",
      "source": [
        "for index in range(len(training_im_list)):\n",
        "  file_name = \"/content/Gatti-1/training/labels/\" + list(training_im_list)[index].split(\"/\")[2].split(\".\")[0] + \".txt\"\n",
        "  f = open(file_name, \"w\")\n",
        "  f.write(str(training_labels[index])[1:-1])\n",
        "  f.close()\n",
        "\n",
        "\n",
        "for index in range(len(validation_im_list)):\n",
        "  file_name = \"/content/Gatti-1/validation/labels/\" + list(training_im_list)[index].split(\"/\")[2].split(\".\")[0] + \".txt\"\n",
        "  f = open(file_name, \"w\")\n",
        "  f.write(str(training_labels[index])[1:-1])\n",
        "  f.close()\n",
        "\n",
        "\n",
        "for index in range(len(test_im_list)):\n",
        "  file_name = \"/content/Gatti-1/test/labels/\" + list(training_im_list)[index].split(\"/\")[2].split(\".\")[0] + \".txt\"\n",
        "  f = open(file_name, \"w\")\n",
        "  f.write(str(training_labels[index])[1:-1])\n",
        "  f.close()\n",
        "\n",
        "f = open(\"/content/Gatti-1/training/images/training_im_list.txt\", \"w\")\n",
        "for item in training_im_list:\n",
        "  f.write(item + \", \")\n",
        "f.close()\n",
        "\n",
        "f = open(\"/content/Gatti-1/validation/images/validation_im_list.txt\", \"w\")\n",
        "for item in validation_im_list:\n",
        "  f.write(item + \", \")\n",
        "f.close()\n",
        "\n",
        "f = open(\"/content/Gatti-1/test/images/test_im_list.txt\", \"w\")\n",
        "for item in test_im_list:\n",
        "  f.write(item + \", \")\n",
        "f.close()\n"
      ],
      "metadata": {
        "id": "_tweF3vHAVK6"
      },
      "execution_count": null,
      "outputs": []
    },
    {
      "cell_type": "code",
      "source": [
        "#spostare le immagini dalla cartella dove sono tutte insieme alla cartella giusta con file path changer"
      ],
      "metadata": {
        "id": "TbyNGgMgAVId"
      },
      "execution_count": null,
      "outputs": []
    },
    {
      "cell_type": "code",
      "source": [
        ""
      ],
      "metadata": {
        "id": "EbiF1xPQAVFE"
      },
      "execution_count": null,
      "outputs": []
    },
    {
      "cell_type": "code",
      "source": [
        ""
      ],
      "metadata": {
        "id": "4B_qffAhAUu8"
      },
      "execution_count": null,
      "outputs": []
    },
    {
      "cell_type": "markdown",
      "source": [
        "### The following chunks are for the yaml"
      ],
      "metadata": {
        "id": "f7WkebK8AKxJ"
      }
    },
    {
      "cell_type": "code",
      "source": [
        "f = open('/content/marcello.yaml', 'w')\n",
        "f.write('cicciobello\\ncicciobello')\n",
        "f.close()"
      ],
      "metadata": {
        "id": "VKqlfKwN2J30"
      },
      "execution_count": null,
      "outputs": []
    },
    {
      "cell_type": "code",
      "source": [
        "f = open('/content/marcello.yaml', 'r')\n",
        "\n",
        "for i in f:\n",
        "  print(i)"
      ],
      "metadata": {
        "id": "EcZHMAm22J1n"
      },
      "execution_count": null,
      "outputs": []
    },
    {
      "cell_type": "code",
      "source": [
        ""
      ],
      "metadata": {
        "id": "NcKKDeG_2Jzc"
      },
      "execution_count": null,
      "outputs": []
    },
    {
      "cell_type": "code",
      "source": [
        ""
      ],
      "metadata": {
        "id": "ceVCMPbO2JxV"
      },
      "execution_count": null,
      "outputs": []
    },
    {
      "cell_type": "code",
      "source": [
        ""
      ],
      "metadata": {
        "id": "zczAhwB32JvK"
      },
      "execution_count": null,
      "outputs": []
    }
  ]
}