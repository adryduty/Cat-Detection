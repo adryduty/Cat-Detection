{
  "cells": [
    {
      "cell_type": "markdown",
      "metadata": {
        "id": "view-in-github",
        "colab_type": "text"
      },
      "source": [
        "<a href=\"https://colab.research.google.com/github/adryduty/computer-vision-cat-project/blob/main/Execution_comp_vision_cat(4_June).ipynb\" target=\"_parent\"><img src=\"https://colab.research.google.com/assets/colab-badge.svg\" alt=\"Open In Colab\"/></a>"
      ]
    },
    {
      "cell_type": "code",
      "execution_count": null,
      "metadata": {
        "colab": {
          "base_uri": "https://localhost:8080/"
        },
        "id": "_CqJ8P55aFTr",
        "outputId": "423f20c9-eb38-4310-93be-1df3d9cd5bed"
      },
      "outputs": [
        {
          "name": "stdout",
          "output_type": "stream",
          "text": [
            "Cloning into 'yolov5'...\n",
            "remote: Enumerating objects: 12173, done.\u001b[K\n",
            "remote: Total 12173 (delta 0), reused 0 (delta 0), pack-reused 12173\u001b[K\n",
            "Receiving objects: 100% (12173/12173), 11.94 MiB | 26.29 MiB/s, done.\n",
            "Resolving deltas: 100% (8428/8428), done.\n",
            "/content/yolov5\n",
            "\u001b[K     |████████████████████████████████| 596 kB 31.1 MB/s \n",
            "\u001b[K     |████████████████████████████████| 145 kB 6.3 MB/s \n",
            "\u001b[K     |████████████████████████████████| 178 kB 32.6 MB/s \n",
            "\u001b[K     |████████████████████████████████| 1.1 MB 20.6 MB/s \n",
            "\u001b[K     |████████████████████████████████| 67 kB 2.7 MB/s \n",
            "\u001b[K     |████████████████████████████████| 54 kB 2.1 MB/s \n",
            "\u001b[K     |████████████████████████████████| 138 kB 42.6 MB/s \n",
            "\u001b[K     |████████████████████████████████| 63 kB 1.3 MB/s \n",
            "\u001b[?25h  Building wheel for roboflow (setup.py) ... \u001b[?25l\u001b[?25hdone\n",
            "  Building wheel for wget (setup.py) ... \u001b[?25l\u001b[?25hdone\n",
            "\u001b[31mERROR: pip's dependency resolver does not currently take into account all the packages that are installed. This behaviour is the source of the following dependency conflicts.\n",
            "google-colab 1.0.0 requires requests~=2.23.0, but you have requests 2.27.1 which is incompatible.\n",
            "datascience 0.10.6 requires folium==0.2.1, but you have folium 0.8.3 which is incompatible.\n",
            "albumentations 0.1.12 requires imgaug<0.2.7,>=0.2.5, but you have imgaug 0.2.9 which is incompatible.\u001b[0m\n",
            "Setup complete. Using torch 1.11.0+cu113 (CPU)\n"
          ]
        }
      ],
      "source": [
        "#clone YOLOv5 and \n",
        "!git clone https://github.com/ultralytics/yolov5  # clone repo\n",
        "%cd yolov5\n",
        "%pip install -qr requirements.txt # install dependencies\n",
        "%pip install -q roboflow\n",
        "\n",
        "import torch\n",
        "import os\n",
        "\n",
        "print(f\"Setup complete. Using torch {torch.__version__} ({torch.cuda.get_device_properties(0).name if torch.cuda.is_available() else 'CPU'})\")"
      ]
    },
    {
      "cell_type": "code",
      "execution_count": 1,
      "metadata": {
        "id": "dj80-19Q1CCw"
      },
      "outputs": [],
      "source": [
        "from IPython.display import display, Javascript\n",
        "from google.colab.output import eval_js\n",
        "from base64 import b64decode\n",
        "import io\n",
        "import numpy as np    \n",
        "from PIL import Image\n",
        "import pickle\n",
        "from google.colab import files, drive\n",
        "import matplotlib.pyplot as plt\n",
        "import matplotlib.ticker as plticker\n",
        "import time\n",
        "import matplotlib.patches as patches\n",
        "import tensorflow as tf\n",
        "import pandas as pd\n",
        "import os\n",
        "import shutil\n",
        "from math import floor\n",
        "from sklearn.model_selection import train_test_split"
      ]
    },
    {
      "cell_type": "code",
      "execution_count": 2,
      "metadata": {
        "id": "ur5CGvXg1KLc"
      },
      "outputs": [],
      "source": [
        "# import dependencies\n",
        "from IPython.display import display, Javascript, Image\n",
        "from google.colab.output import eval_js\n",
        "from base64 import b64decode, b64encode\n",
        "import cv2\n",
        "import numpy as np\n",
        "import PIL\n",
        "import io\n",
        "import html\n",
        "import time"
      ]
    },
    {
      "cell_type": "markdown",
      "metadata": {
        "id": "ae5thi3v1yPC"
      },
      "source": [
        "# In the following code we build a yolov5s with the weights you have already stored (best.pt)"
      ]
    },
    {
      "cell_type": "code",
      "execution_count": 51,
      "metadata": {
        "colab": {
          "base_uri": "https://localhost:8080/"
        },
        "id": "1hLpckZt1v_T",
        "outputId": "1d7a265d-d313-4126-e59b-6b7a53262bae"
      },
      "outputs": [
        {
          "output_type": "stream",
          "name": "stderr",
          "text": [
            "Downloading: \"https://github.com/ultralytics/yolov5/archive/master.zip\" to /root/.cache/torch/hub/master.zip\n",
            "\u001b[31m\u001b[1mrequirements:\u001b[0m PyYAML>=5.3.1 not found and is required by YOLOv5, attempting auto-update...\n",
            "Looking in indexes: https://pypi.org/simple, https://us-python.pkg.dev/colab-wheels/public/simple/\n",
            "Requirement already satisfied: PyYAML>=5.3.1 in /usr/local/lib/python3.7/dist-packages (6.0)\n",
            "\n",
            "\u001b[31m\u001b[1mrequirements:\u001b[0m 1 package updated per /root/.cache/torch/hub/ultralytics_yolov5_master/requirements.txt\n",
            "\u001b[31m\u001b[1mrequirements:\u001b[0m ⚠️ \u001b[1mRestart runtime or rerun command for updates to take effect\u001b[0m\n",
            "\n",
            "YOLOv5 🚀 2022-6-7 Python-3.7.13 torch-1.11.0+cu113 CUDA:0 (Tesla T4, 15110MiB)\n",
            "\n",
            "Fusing layers... \n",
            "Model summary: 213 layers, 7012822 parameters, 0 gradients\n",
            "Adding AutoShape... \n"
          ]
        }
      ],
      "source": [
        "import torch\n",
        "\n",
        "model = torch.hub.load('ultralytics/yolov5', 'custom', \n",
        "                       path='/content/best.pt', force_reload=True)\n",
        "\n",
        "model.conf = 0.25\n",
        "model.iou = 0.45\n",
        "model.agnostic = False\n",
        "model.multi_label = False\n",
        "model.classes = None\n",
        "model.max_det = 1000\n",
        "model.amp = False\n",
        "\n",
        "#model = torch.hub.load('ultralytics/yolov5', 'yolov5s') # This is pretrained (200000 pictures)"
      ]
    },
    {
      "cell_type": "code",
      "source": [
        "model = torch.hub.load('ultralytics/yolov5', 'yolov5s') # This is pretrained (200000 pictures)"
      ],
      "metadata": {
        "colab": {
          "base_uri": "https://localhost:8080/",
          "height": 304,
          "referenced_widgets": [
            "14df307bd9954cd7b04d99404ca33de0",
            "613572891613479792246093bb66625c",
            "e5795d22f0614e85a73dbb750560d048",
            "dcba0956828b4205bbbe5e4c6ac80313",
            "10a54a3602e24a929e555a2dfcd53b37",
            "c2fbe6ba0f4e4f6fbddf271a81d29546",
            "e16e4337c2be4bb880554ce116b113dc",
            "90c10d323748463a82e32bef2f065358",
            "f12566fd42eb41099e521f8cfeb2b61a",
            "1290d11f202d4f1a85217e8c811b4c90",
            "2213d05cd00649ddab42349a21a4a030"
          ]
        },
        "id": "jcX3yJcuFtTQ",
        "outputId": "d2223feb-4963-485c-bf7b-4770c5f1d967"
      },
      "execution_count": 32,
      "outputs": [
        {
          "output_type": "stream",
          "name": "stderr",
          "text": [
            "Using cache found in /root/.cache/torch/hub/ultralytics_yolov5_master\n",
            "\u001b[31m\u001b[1mrequirements:\u001b[0m PyYAML>=5.3.1 not found and is required by YOLOv5, attempting auto-update...\n",
            "Looking in indexes: https://pypi.org/simple, https://us-python.pkg.dev/colab-wheels/public/simple/\n",
            "Requirement already satisfied: PyYAML>=5.3.1 in /usr/local/lib/python3.7/dist-packages (6.0)\n",
            "\n",
            "\u001b[31m\u001b[1mrequirements:\u001b[0m 1 package updated per /root/.cache/torch/hub/ultralytics_yolov5_master/requirements.txt\n",
            "\u001b[31m\u001b[1mrequirements:\u001b[0m ⚠️ \u001b[1mRestart runtime or rerun command for updates to take effect\u001b[0m\n",
            "\n",
            "YOLOv5 🚀 2022-6-7 Python-3.7.13 torch-1.11.0+cu113 CUDA:0 (Tesla T4, 15110MiB)\n",
            "\n",
            "Downloading https://github.com/ultralytics/yolov5/releases/download/v6.1/yolov5s.pt to yolov5s.pt...\n"
          ]
        },
        {
          "output_type": "display_data",
          "data": {
            "text/plain": [
              "  0%|          | 0.00/14.1M [00:00<?, ?B/s]"
            ],
            "application/vnd.jupyter.widget-view+json": {
              "version_major": 2,
              "version_minor": 0,
              "model_id": "14df307bd9954cd7b04d99404ca33de0"
            }
          },
          "metadata": {}
        },
        {
          "output_type": "stream",
          "name": "stderr",
          "text": [
            "\n",
            "Fusing layers... \n",
            "YOLOv5s summary: 213 layers, 7225885 parameters, 0 gradients\n",
            "Adding AutoShape... \n"
          ]
        }
      ]
    },
    {
      "cell_type": "markdown",
      "metadata": {
        "id": "rYCfgiYY1BNl"
      },
      "source": [
        "# Let's use the camera and the frozen weights to detect Ghiri"
      ]
    },
    {
      "cell_type": "markdown",
      "metadata": {
        "id": "x4KhkaEhGM-r"
      },
      "source": [
        "# New way (equal to the first one)"
      ]
    },
    {
      "cell_type": "code",
      "execution_count": null,
      "metadata": {
        "id": "r3-Lk1poIXz5"
      },
      "outputs": [],
      "source": [
        "def js_to_image(js_reply):\n",
        "  \"\"\"\n",
        "  Params:\n",
        "          js_reply: JavaScript object containing image from webcam\n",
        "  Returns:\n",
        "          img: OpenCV BGR image\n",
        "  \"\"\"\n",
        "  # decode base64 image\n",
        "  image_bytes = b64decode(js_reply.split(',')[1])\n",
        "  # convert bytes to numpy array\n",
        "  jpg_as_np = np.frombuffer(image_bytes, dtype=np.uint8)\n",
        "  # decode numpy array into OpenCV BGR image\n",
        "  img = cv2.imdecode(jpg_as_np, flags=1)\n",
        "\n",
        "  return img\n",
        "\n",
        "# function to convert OpenCV Rectangle bounding box image into base64 byte string to be overlayed on video stream\n",
        "def bbox_to_bytes(bbox_array):\n",
        "  \"\"\"\n",
        "  Params:\n",
        "          bbox_array: Numpy array (pixels) containing rectangle to overlay on video stream.\n",
        "  Returns:\n",
        "        bytes: Base64 image byte string\n",
        "  \"\"\"\n",
        "  # convert array into PIL image\n",
        "  bbox_PIL = PIL.Image.fromarray(bbox_array, 'RGBA')\n",
        "  iobuf = io.BytesIO()\n",
        "  # format bbox into png for return\n",
        "  bbox_PIL.save(iobuf, format='png')\n",
        "  # format return string\n",
        "  bbox_bytes = 'data:image/png;base64,{}'.format((str(b64encode(iobuf.getvalue()), 'utf-8')))\n",
        "\n",
        "  return bbox_bytes"
      ]
    },
    {
      "cell_type": "code",
      "execution_count": null,
      "metadata": {
        "id": "GTuD3OUG1H4c"
      },
      "outputs": [],
      "source": [
        "# JavaScript to properly create our live video stream using our webcam as input\n",
        "def video_stream():\n",
        "  js = Javascript('''\n",
        "    var video;\n",
        "    var div = null;\n",
        "    var stream;\n",
        "    var captureCanvas;\n",
        "    var imgElement;\n",
        "    var labelElement;\n",
        "    \n",
        "    var pendingResolve = null;\n",
        "    var shutdown = false;\n",
        "    \n",
        "    function removeDom() {\n",
        "       stream.getVideoTracks()[0].stop();\n",
        "       video.remove();\n",
        "       div.remove();\n",
        "       video = null;\n",
        "       div = null;\n",
        "       stream = null;\n",
        "       imgElement = null;\n",
        "       captureCanvas = null;\n",
        "       labelElement = null;\n",
        "    }\n",
        "    \n",
        "    function onAnimationFrame() {\n",
        "      if (!shutdown) {\n",
        "        window.requestAnimationFrame(onAnimationFrame);\n",
        "      }\n",
        "      if (pendingResolve) {\n",
        "        var result = \"\";\n",
        "        if (!shutdown) {\n",
        "          captureCanvas.getContext('2d').drawImage(video, 0, 0, 640, 480);\n",
        "          result = captureCanvas.toDataURL('image/jpeg', 0.8)\n",
        "        }\n",
        "        var lp = pendingResolve;\n",
        "        pendingResolve = null;\n",
        "        lp(result);\n",
        "      }\n",
        "    }\n",
        "    \n",
        "    async function createDom() {\n",
        "      if (div !== null) {\n",
        "        return stream;\n",
        "      }\n",
        "\n",
        "      div = document.createElement('div');\n",
        "      div.style.border = '2px solid black';\n",
        "      div.style.padding = '3px';\n",
        "      div.style.width = '100%';\n",
        "      div.style.maxWidth = '600px';\n",
        "      document.body.appendChild(div);\n",
        "      \n",
        "      const modelOut = document.createElement('div');\n",
        "      modelOut.innerHTML = \"<span>Status:</span>\";\n",
        "      labelElement = document.createElement('span');\n",
        "      labelElement.innerText = 'No data';\n",
        "      labelElement.style.fontWeight = 'bold';\n",
        "      modelOut.appendChild(labelElement);\n",
        "      div.appendChild(modelOut);\n",
        "           \n",
        "      video = document.createElement('video');\n",
        "      video.style.display = 'block';\n",
        "      video.width = div.clientWidth - 6;\n",
        "      video.setAttribute('playsinline', '');\n",
        "      video.onclick = () => { shutdown = true; };\n",
        "      stream = await navigator.mediaDevices.getUserMedia(\n",
        "          {video: { facingMode: \"environment\"}});\n",
        "      div.appendChild(video);\n",
        "\n",
        "      imgElement = document.createElement('img');\n",
        "      imgElement.style.position = 'absolute';\n",
        "      imgElement.style.zIndex = 1;\n",
        "      imgElement.onclick = () => { shutdown = true; };\n",
        "      div.appendChild(imgElement);\n",
        "      \n",
        "      const instruction = document.createElement('div');\n",
        "      instruction.innerHTML = \n",
        "          '<span style=\"color: red; font-weight: bold;\">' +\n",
        "          'When finished, click here or on the video to stop this demo</span>';\n",
        "      div.appendChild(instruction);\n",
        "      instruction.onclick = () => { shutdown = true; };\n",
        "      \n",
        "      video.srcObject = stream;\n",
        "      await video.play();\n",
        "\n",
        "      captureCanvas = document.createElement('canvas');\n",
        "      captureCanvas.width = 640; //video.videoWidth;\n",
        "      captureCanvas.height = 480; //video.videoHeight;\n",
        "      window.requestAnimationFrame(onAnimationFrame);\n",
        "      \n",
        "      return stream;\n",
        "    }\n",
        "    async function stream_frame(label, imgData) {\n",
        "      if (shutdown) {\n",
        "        removeDom();\n",
        "        shutdown = false;\n",
        "        return '';\n",
        "      }\n",
        "\n",
        "      var preCreate = Date.now();\n",
        "      stream = await createDom();\n",
        "      \n",
        "      var preShow = Date.now();\n",
        "      if (label != \"\") {\n",
        "        labelElement.innerHTML = label;\n",
        "      }\n",
        "            \n",
        "      if (imgData != \"\") {\n",
        "        var videoRect = video.getClientRects()[0];\n",
        "        imgElement.style.top = videoRect.top + \"px\";\n",
        "        imgElement.style.left = videoRect.left + \"px\";\n",
        "        imgElement.style.width = videoRect.width + \"px\";\n",
        "        imgElement.style.height = videoRect.height + \"px\";\n",
        "        imgElement.src = imgData;\n",
        "      }\n",
        "      \n",
        "      var preCapture = Date.now();\n",
        "      var result = await new Promise(function(resolve, reject) {\n",
        "        pendingResolve = resolve;\n",
        "      });\n",
        "      shutdown = false;\n",
        "      \n",
        "      return {'create': preShow - preCreate, \n",
        "              'show': preCapture - preShow, \n",
        "              'capture': Date.now() - preCapture,\n",
        "              'img': result};\n",
        "    }\n",
        "    ''')\n",
        "\n",
        "  display(js)\n",
        "  \n",
        "def video_frame(label, bbox):\n",
        "  data = eval_js('stream_frame(\"{}\", \"{}\")'.format(label, bbox))\n",
        "  return data"
      ]
    },
    {
      "cell_type": "markdown",
      "metadata": {
        "id": "_D1gzBuVGWSN"
      },
      "source": [
        "### Running on Webcam Video"
      ]
    },
    {
      "cell_type": "code",
      "execution_count": 69,
      "metadata": {
        "id": "FIbAhA4eWUxS"
      },
      "outputs": [],
      "source": [
        "from PIL import Image\n",
        "from google.colab import output\n",
        "from IPython.display import Audio\n",
        "from IPython.display import display"
      ]
    },
    {
      "cell_type": "code",
      "source": [
        "# start streaming video from webcam\n",
        "video_stream()\n",
        "# label for video\n",
        "label_html = 'Capturing...'\n",
        "# initialze bounding box to empty\n",
        "bbox = ''\n",
        "count = 0 \n",
        "while True:\n",
        "    js_reply = video_frame(label_html, bbox)\n",
        "    if not js_reply:\n",
        "        break\n",
        "\n",
        "    # convert JS response to OpenCV Image\n",
        "    frame = js_to_image(js_reply[\"img\"])\n",
        "\n",
        "    frame = Image.fromarray(frame)\n",
        "    results = model(frame)\n",
        "\n",
        "    # create transparent overlay for bounding box\n",
        "    bbox_array = np.zeros([480,640,4], dtype=np.uint8)\n",
        "\n",
        "    width_ratio = 640\n",
        "    height_ratio = 480\n",
        "\n",
        "\n",
        "    if len(list(results.xywhn[0])) > 0:\n",
        "      x_c = float(results.xywhn[0][0][0])\n",
        "      y_c = float(results.xywhn[0][0][1])\n",
        "      width = float(results.xywhn[0][0][2])\n",
        "      height = float(results.xywhn[0][0][3])\n",
        "      prob = float(results.xywhn[0][0][4])\n",
        "      label_ghiri = 'Ghiri'\n",
        "\n",
        "      left = x_c - width/2\n",
        "      top = y_c - height/2\n",
        "      right = x_c + width/2\n",
        "      bottom = y_c + height/2\n",
        "\n",
        "      left, top, right, bottom = int(left * width_ratio), int(top * height_ratio), int(right * width_ratio), int(bottom * height_ratio)\n",
        "    \n",
        "      bbox_array = cv2.rectangle(bbox_array, (left, top), (right, bottom), (255,0,0), 2)\n",
        "      bbox_array = cv2.putText(bbox_array, \"{} [{:.2f}]\".format('Ghiri', prob),\n",
        "                          (left, top - 5), cv2.FONT_HERSHEY_SIMPLEX, 0.5,\n",
        "                          (255,0,0), 2)\n",
        "    \n",
        "  \n",
        "      bbox_array[:,:,3] = (bbox_array.max(axis = 2) > 0 ).astype(int) * 255\n",
        "      # convert overlay of bbox into bytes\n",
        "\n",
        "      bbox_bytes = bbox_to_bytes(bbox_array)\n",
        "      if prob > 0.85:\n",
        "        sound_file = \"/content/beep.mp3\"\n",
        "        display(Audio(sound_file, autoplay=True))\n",
        "\n",
        "      # update bbox so next frame gets new overlay\n",
        "      bbox = bbox_bytes\n",
        "\n",
        "\n",
        "\n",
        "    \n"
      ],
      "metadata": {
        "colab": {
          "base_uri": "https://localhost:8080/",
          "height": 904
        },
        "id": "6etGx2pBBg4w",
        "outputId": "4bd64872-5f9f-4e3b-8e2f-86bdd8f15167"
      },
      "execution_count": 74,
      "outputs": [
        {
          "output_type": "display_data",
          "data": {
            "text/plain": [
              "<IPython.core.display.Javascript object>"
            ],
            "application/javascript": [
              "\n",
              "    var video;\n",
              "    var div = null;\n",
              "    var stream;\n",
              "    var captureCanvas;\n",
              "    var imgElement;\n",
              "    var labelElement;\n",
              "    \n",
              "    var pendingResolve = null;\n",
              "    var shutdown = false;\n",
              "    \n",
              "    function removeDom() {\n",
              "       stream.getVideoTracks()[0].stop();\n",
              "       video.remove();\n",
              "       div.remove();\n",
              "       video = null;\n",
              "       div = null;\n",
              "       stream = null;\n",
              "       imgElement = null;\n",
              "       captureCanvas = null;\n",
              "       labelElement = null;\n",
              "    }\n",
              "    \n",
              "    function onAnimationFrame() {\n",
              "      if (!shutdown) {\n",
              "        window.requestAnimationFrame(onAnimationFrame);\n",
              "      }\n",
              "      if (pendingResolve) {\n",
              "        var result = \"\";\n",
              "        if (!shutdown) {\n",
              "          captureCanvas.getContext('2d').drawImage(video, 0, 0, 640, 480);\n",
              "          result = captureCanvas.toDataURL('image/jpeg', 0.1)\n",
              "        }\n",
              "        var lp = pendingResolve;\n",
              "        pendingResolve = null;\n",
              "        lp(result);\n",
              "      }\n",
              "    }\n",
              "    \n",
              "    async function createDom() {\n",
              "      if (div !== null) {\n",
              "        return stream;\n",
              "      }\n",
              "\n",
              "      div = document.createElement('div');\n",
              "      div.style.border = '2px solid black';\n",
              "      div.style.padding = '3px';\n",
              "      div.style.width = '100%';\n",
              "      div.style.maxWidth = '600px';\n",
              "      document.body.appendChild(div);\n",
              "      \n",
              "      const modelOut = document.createElement('div');\n",
              "      modelOut.innerHTML = \"<span>Status:</span>\";\n",
              "      labelElement = document.createElement('span');\n",
              "      labelElement.innerText = 'No data';\n",
              "      labelElement.style.fontWeight = 'bold';\n",
              "      modelOut.appendChild(labelElement);\n",
              "      div.appendChild(modelOut);\n",
              "           \n",
              "      video = document.createElement('video');\n",
              "      video.style.display = 'block';\n",
              "      video.width = div.clientWidth - 6;\n",
              "      video.setAttribute('playsinline', '');\n",
              "      video.onclick = () => { shutdown = true; };\n",
              "      stream = await navigator.mediaDevices.getUserMedia(\n",
              "          {video: { facingMode: \"environment\"}});\n",
              "      div.appendChild(video);\n",
              "\n",
              "      imgElement = document.createElement('img');\n",
              "      imgElement.style.position = 'absolute';\n",
              "      imgElement.style.zIndex = 1;\n",
              "      imgElement.onclick = () => { shutdown = true; };\n",
              "      div.appendChild(imgElement);\n",
              "      \n",
              "      const instruction = document.createElement('div');\n",
              "      instruction.innerHTML = \n",
              "          '<span style=\"color: red; font-weight: bold;\">' +\n",
              "          'When finished, click here or on the video to stop this demo</span>';\n",
              "      div.appendChild(instruction);\n",
              "      instruction.onclick = () => { shutdown = true; };\n",
              "      \n",
              "      video.srcObject = stream;\n",
              "      await video.play();\n",
              "\n",
              "      captureCanvas = document.createElement('canvas');\n",
              "      captureCanvas.width = 640; //video.videoWidth;\n",
              "      captureCanvas.height = 480; //video.videoHeight;\n",
              "      window.requestAnimationFrame(onAnimationFrame);\n",
              "      \n",
              "      return stream;\n",
              "    }\n",
              "    async function stream_frame(label, imgData) {\n",
              "      if (shutdown) {\n",
              "        removeDom();\n",
              "        shutdown = false;\n",
              "        return '';\n",
              "      }\n",
              "\n",
              "      var preCreate = Date.now();\n",
              "      stream = await createDom();\n",
              "      \n",
              "      var preShow = Date.now();\n",
              "      if (label != \"\") {\n",
              "        labelElement.innerHTML = label;\n",
              "      }\n",
              "            \n",
              "      if (imgData != \"\") {\n",
              "        var videoRect = video.getClientRects()[0];\n",
              "        imgElement.style.top = videoRect.top + \"px\";\n",
              "        imgElement.style.left = videoRect.left + \"px\";\n",
              "        imgElement.style.width = videoRect.width + \"px\";\n",
              "        imgElement.style.height = videoRect.height + \"px\";\n",
              "        imgElement.src = imgData;\n",
              "      }\n",
              "      \n",
              "      var preCapture = Date.now();\n",
              "      var result = await new Promise(function(resolve, reject) {\n",
              "        pendingResolve = resolve;\n",
              "      });\n",
              "      shutdown = false;\n",
              "      \n",
              "      return {'create': preShow - preCreate, \n",
              "              'show': preCapture - preShow, \n",
              "              'capture': Date.now() - preCapture,\n",
              "              'img': result};\n",
              "    }\n",
              "    "
            ]
          },
          "metadata": {}
        },
        {
          "output_type": "display_data",
          "data": {
            "text/plain": [
              "<IPython.lib.display.Audio object>"
            ],
            "text/html": [
              "\n",
              "                <audio controls=\"controls\" autoplay=\"autoplay\">\n",
              "                    <source src=\"data:audio/mpeg;base64,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\" type=\"audio/mpeg\" />\n",
              "                    Your browser does not support the audio element.\n",
              "                </audio>\n",
              "              "
            ]
          },
          "metadata": {}
        },
        {
          "output_type": "error",
          "ename": "KeyboardInterrupt",
          "evalue": "ignored",
          "traceback": [
            "\u001b[0;31m---------------------------------------------------------------------------\u001b[0m",
            "\u001b[0;31mKeyboardInterrupt\u001b[0m                         Traceback (most recent call last)",
            "\u001b[0;32m<ipython-input-74-0aaa8d8d2303>\u001b[0m in \u001b[0;36m<module>\u001b[0;34m()\u001b[0m\n\u001b[1;32m     15\u001b[0m \u001b[0;34m\u001b[0m\u001b[0m\n\u001b[1;32m     16\u001b[0m     \u001b[0mframe\u001b[0m \u001b[0;34m=\u001b[0m \u001b[0mImage\u001b[0m\u001b[0;34m.\u001b[0m\u001b[0mfromarray\u001b[0m\u001b[0;34m(\u001b[0m\u001b[0mframe\u001b[0m\u001b[0;34m)\u001b[0m\u001b[0;34m\u001b[0m\u001b[0;34m\u001b[0m\u001b[0m\n\u001b[0;32m---> 17\u001b[0;31m     \u001b[0mresults\u001b[0m \u001b[0;34m=\u001b[0m \u001b[0mmodel\u001b[0m\u001b[0;34m(\u001b[0m\u001b[0mframe\u001b[0m\u001b[0;34m)\u001b[0m\u001b[0;34m\u001b[0m\u001b[0;34m\u001b[0m\u001b[0m\n\u001b[0m\u001b[1;32m     18\u001b[0m \u001b[0;34m\u001b[0m\u001b[0m\n\u001b[1;32m     19\u001b[0m     \u001b[0;31m# create transparent overlay for bounding box\u001b[0m\u001b[0;34m\u001b[0m\u001b[0;34m\u001b[0m\u001b[0;34m\u001b[0m\u001b[0m\n",
            "\u001b[0;32m/usr/local/lib/python3.7/dist-packages/torch/nn/modules/module.py\u001b[0m in \u001b[0;36m_call_impl\u001b[0;34m(self, *input, **kwargs)\u001b[0m\n\u001b[1;32m   1108\u001b[0m         if not (self._backward_hooks or self._forward_hooks or self._forward_pre_hooks or _global_backward_hooks\n\u001b[1;32m   1109\u001b[0m                 or _global_forward_hooks or _global_forward_pre_hooks):\n\u001b[0;32m-> 1110\u001b[0;31m             \u001b[0;32mreturn\u001b[0m \u001b[0mforward_call\u001b[0m\u001b[0;34m(\u001b[0m\u001b[0;34m*\u001b[0m\u001b[0minput\u001b[0m\u001b[0;34m,\u001b[0m \u001b[0;34m**\u001b[0m\u001b[0mkwargs\u001b[0m\u001b[0;34m)\u001b[0m\u001b[0;34m\u001b[0m\u001b[0;34m\u001b[0m\u001b[0m\n\u001b[0m\u001b[1;32m   1111\u001b[0m         \u001b[0;31m# Do not call functions when jit is used\u001b[0m\u001b[0;34m\u001b[0m\u001b[0;34m\u001b[0m\u001b[0;34m\u001b[0m\u001b[0m\n\u001b[1;32m   1112\u001b[0m         \u001b[0mfull_backward_hooks\u001b[0m\u001b[0;34m,\u001b[0m \u001b[0mnon_full_backward_hooks\u001b[0m \u001b[0;34m=\u001b[0m \u001b[0;34m[\u001b[0m\u001b[0;34m]\u001b[0m\u001b[0;34m,\u001b[0m \u001b[0;34m[\u001b[0m\u001b[0;34m]\u001b[0m\u001b[0;34m\u001b[0m\u001b[0;34m\u001b[0m\u001b[0m\n",
            "\u001b[0;32m/usr/local/lib/python3.7/dist-packages/torch/autograd/grad_mode.py\u001b[0m in \u001b[0;36mdecorate_context\u001b[0;34m(*args, **kwargs)\u001b[0m\n\u001b[1;32m     25\u001b[0m         \u001b[0;32mdef\u001b[0m \u001b[0mdecorate_context\u001b[0m\u001b[0;34m(\u001b[0m\u001b[0;34m*\u001b[0m\u001b[0margs\u001b[0m\u001b[0;34m,\u001b[0m \u001b[0;34m**\u001b[0m\u001b[0mkwargs\u001b[0m\u001b[0;34m)\u001b[0m\u001b[0;34m:\u001b[0m\u001b[0;34m\u001b[0m\u001b[0;34m\u001b[0m\u001b[0m\n\u001b[1;32m     26\u001b[0m             \u001b[0;32mwith\u001b[0m \u001b[0mself\u001b[0m\u001b[0;34m.\u001b[0m\u001b[0mclone\u001b[0m\u001b[0;34m(\u001b[0m\u001b[0;34m)\u001b[0m\u001b[0;34m:\u001b[0m\u001b[0;34m\u001b[0m\u001b[0;34m\u001b[0m\u001b[0m\n\u001b[0;32m---> 27\u001b[0;31m                 \u001b[0;32mreturn\u001b[0m \u001b[0mfunc\u001b[0m\u001b[0;34m(\u001b[0m\u001b[0;34m*\u001b[0m\u001b[0margs\u001b[0m\u001b[0;34m,\u001b[0m \u001b[0;34m**\u001b[0m\u001b[0mkwargs\u001b[0m\u001b[0;34m)\u001b[0m\u001b[0;34m\u001b[0m\u001b[0;34m\u001b[0m\u001b[0m\n\u001b[0m\u001b[1;32m     28\u001b[0m         \u001b[0;32mreturn\u001b[0m \u001b[0mcast\u001b[0m\u001b[0;34m(\u001b[0m\u001b[0mF\u001b[0m\u001b[0;34m,\u001b[0m \u001b[0mdecorate_context\u001b[0m\u001b[0;34m)\u001b[0m\u001b[0;34m\u001b[0m\u001b[0;34m\u001b[0m\u001b[0m\n\u001b[1;32m     29\u001b[0m \u001b[0;34m\u001b[0m\u001b[0m\n",
            "\u001b[0;32m/root/.cache/torch/hub/ultralytics_yolov5_master/models/common.py\u001b[0m in \u001b[0;36mforward\u001b[0;34m(self, imgs, size, augment, profile)\u001b[0m\n\u001b[1;32m    600\u001b[0m         \u001b[0;32mwith\u001b[0m \u001b[0mamp\u001b[0m\u001b[0;34m.\u001b[0m\u001b[0mautocast\u001b[0m\u001b[0;34m(\u001b[0m\u001b[0mautocast\u001b[0m\u001b[0;34m)\u001b[0m\u001b[0;34m:\u001b[0m\u001b[0;34m\u001b[0m\u001b[0;34m\u001b[0m\u001b[0m\n\u001b[1;32m    601\u001b[0m             \u001b[0;31m# Inference\u001b[0m\u001b[0;34m\u001b[0m\u001b[0;34m\u001b[0m\u001b[0;34m\u001b[0m\u001b[0m\n\u001b[0;32m--> 602\u001b[0;31m             \u001b[0my\u001b[0m \u001b[0;34m=\u001b[0m \u001b[0mself\u001b[0m\u001b[0;34m.\u001b[0m\u001b[0mmodel\u001b[0m\u001b[0;34m(\u001b[0m\u001b[0mx\u001b[0m\u001b[0;34m,\u001b[0m \u001b[0maugment\u001b[0m\u001b[0;34m,\u001b[0m \u001b[0mprofile\u001b[0m\u001b[0;34m)\u001b[0m  \u001b[0;31m# forward\u001b[0m\u001b[0;34m\u001b[0m\u001b[0;34m\u001b[0m\u001b[0m\n\u001b[0m\u001b[1;32m    603\u001b[0m             \u001b[0mt\u001b[0m\u001b[0;34m.\u001b[0m\u001b[0mappend\u001b[0m\u001b[0;34m(\u001b[0m\u001b[0mtime_sync\u001b[0m\u001b[0;34m(\u001b[0m\u001b[0;34m)\u001b[0m\u001b[0;34m)\u001b[0m\u001b[0;34m\u001b[0m\u001b[0;34m\u001b[0m\u001b[0m\n\u001b[1;32m    604\u001b[0m \u001b[0;34m\u001b[0m\u001b[0m\n",
            "\u001b[0;32m/usr/local/lib/python3.7/dist-packages/torch/nn/modules/module.py\u001b[0m in \u001b[0;36m_call_impl\u001b[0;34m(self, *input, **kwargs)\u001b[0m\n\u001b[1;32m   1108\u001b[0m         if not (self._backward_hooks or self._forward_hooks or self._forward_pre_hooks or _global_backward_hooks\n\u001b[1;32m   1109\u001b[0m                 or _global_forward_hooks or _global_forward_pre_hooks):\n\u001b[0;32m-> 1110\u001b[0;31m             \u001b[0;32mreturn\u001b[0m \u001b[0mforward_call\u001b[0m\u001b[0;34m(\u001b[0m\u001b[0;34m*\u001b[0m\u001b[0minput\u001b[0m\u001b[0;34m,\u001b[0m \u001b[0;34m**\u001b[0m\u001b[0mkwargs\u001b[0m\u001b[0;34m)\u001b[0m\u001b[0;34m\u001b[0m\u001b[0;34m\u001b[0m\u001b[0m\n\u001b[0m\u001b[1;32m   1111\u001b[0m         \u001b[0;31m# Do not call functions when jit is used\u001b[0m\u001b[0;34m\u001b[0m\u001b[0;34m\u001b[0m\u001b[0;34m\u001b[0m\u001b[0m\n\u001b[1;32m   1112\u001b[0m         \u001b[0mfull_backward_hooks\u001b[0m\u001b[0;34m,\u001b[0m \u001b[0mnon_full_backward_hooks\u001b[0m \u001b[0;34m=\u001b[0m \u001b[0;34m[\u001b[0m\u001b[0;34m]\u001b[0m\u001b[0;34m,\u001b[0m \u001b[0;34m[\u001b[0m\u001b[0;34m]\u001b[0m\u001b[0;34m\u001b[0m\u001b[0;34m\u001b[0m\u001b[0m\n",
            "\u001b[0;32m/root/.cache/torch/hub/ultralytics_yolov5_master/models/common.py\u001b[0m in \u001b[0;36mforward\u001b[0;34m(self, im, augment, visualize, val)\u001b[0m\n\u001b[1;32m    443\u001b[0m         \u001b[0mb\u001b[0m\u001b[0;34m,\u001b[0m \u001b[0mch\u001b[0m\u001b[0;34m,\u001b[0m \u001b[0mh\u001b[0m\u001b[0;34m,\u001b[0m \u001b[0mw\u001b[0m \u001b[0;34m=\u001b[0m \u001b[0mim\u001b[0m\u001b[0;34m.\u001b[0m\u001b[0mshape\u001b[0m  \u001b[0;31m# batch, channel, height, width\u001b[0m\u001b[0;34m\u001b[0m\u001b[0;34m\u001b[0m\u001b[0m\n\u001b[1;32m    444\u001b[0m         \u001b[0;32mif\u001b[0m \u001b[0mself\u001b[0m\u001b[0;34m.\u001b[0m\u001b[0mpt\u001b[0m\u001b[0;34m:\u001b[0m  \u001b[0;31m# PyTorch\u001b[0m\u001b[0;34m\u001b[0m\u001b[0;34m\u001b[0m\u001b[0m\n\u001b[0;32m--> 445\u001b[0;31m             \u001b[0my\u001b[0m \u001b[0;34m=\u001b[0m \u001b[0mself\u001b[0m\u001b[0;34m.\u001b[0m\u001b[0mmodel\u001b[0m\u001b[0;34m(\u001b[0m\u001b[0mim\u001b[0m\u001b[0;34m,\u001b[0m \u001b[0maugment\u001b[0m\u001b[0;34m=\u001b[0m\u001b[0maugment\u001b[0m\u001b[0;34m,\u001b[0m \u001b[0mvisualize\u001b[0m\u001b[0;34m=\u001b[0m\u001b[0mvisualize\u001b[0m\u001b[0;34m)\u001b[0m\u001b[0;34m[\u001b[0m\u001b[0;36m0\u001b[0m\u001b[0;34m]\u001b[0m\u001b[0;34m\u001b[0m\u001b[0;34m\u001b[0m\u001b[0m\n\u001b[0m\u001b[1;32m    446\u001b[0m         \u001b[0;32melif\u001b[0m \u001b[0mself\u001b[0m\u001b[0;34m.\u001b[0m\u001b[0mjit\u001b[0m\u001b[0;34m:\u001b[0m  \u001b[0;31m# TorchScript\u001b[0m\u001b[0;34m\u001b[0m\u001b[0;34m\u001b[0m\u001b[0m\n\u001b[1;32m    447\u001b[0m             \u001b[0my\u001b[0m \u001b[0;34m=\u001b[0m \u001b[0mself\u001b[0m\u001b[0;34m.\u001b[0m\u001b[0mmodel\u001b[0m\u001b[0;34m(\u001b[0m\u001b[0mim\u001b[0m\u001b[0;34m)\u001b[0m\u001b[0;34m[\u001b[0m\u001b[0;36m0\u001b[0m\u001b[0;34m]\u001b[0m\u001b[0;34m\u001b[0m\u001b[0;34m\u001b[0m\u001b[0m\n",
            "\u001b[0;32m/usr/local/lib/python3.7/dist-packages/torch/nn/modules/module.py\u001b[0m in \u001b[0;36m_call_impl\u001b[0;34m(self, *input, **kwargs)\u001b[0m\n\u001b[1;32m   1108\u001b[0m         if not (self._backward_hooks or self._forward_hooks or self._forward_pre_hooks or _global_backward_hooks\n\u001b[1;32m   1109\u001b[0m                 or _global_forward_hooks or _global_forward_pre_hooks):\n\u001b[0;32m-> 1110\u001b[0;31m             \u001b[0;32mreturn\u001b[0m \u001b[0mforward_call\u001b[0m\u001b[0;34m(\u001b[0m\u001b[0;34m*\u001b[0m\u001b[0minput\u001b[0m\u001b[0;34m,\u001b[0m \u001b[0;34m**\u001b[0m\u001b[0mkwargs\u001b[0m\u001b[0;34m)\u001b[0m\u001b[0;34m\u001b[0m\u001b[0;34m\u001b[0m\u001b[0m\n\u001b[0m\u001b[1;32m   1111\u001b[0m         \u001b[0;31m# Do not call functions when jit is used\u001b[0m\u001b[0;34m\u001b[0m\u001b[0;34m\u001b[0m\u001b[0;34m\u001b[0m\u001b[0m\n\u001b[1;32m   1112\u001b[0m         \u001b[0mfull_backward_hooks\u001b[0m\u001b[0;34m,\u001b[0m \u001b[0mnon_full_backward_hooks\u001b[0m \u001b[0;34m=\u001b[0m \u001b[0;34m[\u001b[0m\u001b[0;34m]\u001b[0m\u001b[0;34m,\u001b[0m \u001b[0;34m[\u001b[0m\u001b[0;34m]\u001b[0m\u001b[0;34m\u001b[0m\u001b[0;34m\u001b[0m\u001b[0m\n",
            "\u001b[0;32m/root/.cache/torch/hub/ultralytics_yolov5_master/models/yolo.py\u001b[0m in \u001b[0;36mforward\u001b[0;34m(self, x, augment, profile, visualize)\u001b[0m\n\u001b[1;32m    133\u001b[0m         \u001b[0;32mif\u001b[0m \u001b[0maugment\u001b[0m\u001b[0;34m:\u001b[0m\u001b[0;34m\u001b[0m\u001b[0;34m\u001b[0m\u001b[0m\n\u001b[1;32m    134\u001b[0m             \u001b[0;32mreturn\u001b[0m \u001b[0mself\u001b[0m\u001b[0;34m.\u001b[0m\u001b[0m_forward_augment\u001b[0m\u001b[0;34m(\u001b[0m\u001b[0mx\u001b[0m\u001b[0;34m)\u001b[0m  \u001b[0;31m# augmented inference, None\u001b[0m\u001b[0;34m\u001b[0m\u001b[0;34m\u001b[0m\u001b[0m\n\u001b[0;32m--> 135\u001b[0;31m         \u001b[0;32mreturn\u001b[0m \u001b[0mself\u001b[0m\u001b[0;34m.\u001b[0m\u001b[0m_forward_once\u001b[0m\u001b[0;34m(\u001b[0m\u001b[0mx\u001b[0m\u001b[0;34m,\u001b[0m \u001b[0mprofile\u001b[0m\u001b[0;34m,\u001b[0m \u001b[0mvisualize\u001b[0m\u001b[0;34m)\u001b[0m  \u001b[0;31m# single-scale inference, train\u001b[0m\u001b[0;34m\u001b[0m\u001b[0;34m\u001b[0m\u001b[0m\n\u001b[0m\u001b[1;32m    136\u001b[0m \u001b[0;34m\u001b[0m\u001b[0m\n\u001b[1;32m    137\u001b[0m     \u001b[0;32mdef\u001b[0m \u001b[0m_forward_augment\u001b[0m\u001b[0;34m(\u001b[0m\u001b[0mself\u001b[0m\u001b[0;34m,\u001b[0m \u001b[0mx\u001b[0m\u001b[0;34m)\u001b[0m\u001b[0;34m:\u001b[0m\u001b[0;34m\u001b[0m\u001b[0;34m\u001b[0m\u001b[0m\n",
            "\u001b[0;32m/root/.cache/torch/hub/ultralytics_yolov5_master/models/yolo.py\u001b[0m in \u001b[0;36m_forward_once\u001b[0;34m(self, x, profile, visualize)\u001b[0m\n\u001b[1;32m    156\u001b[0m             \u001b[0;32mif\u001b[0m \u001b[0mprofile\u001b[0m\u001b[0;34m:\u001b[0m\u001b[0;34m\u001b[0m\u001b[0;34m\u001b[0m\u001b[0m\n\u001b[1;32m    157\u001b[0m                 \u001b[0mself\u001b[0m\u001b[0;34m.\u001b[0m\u001b[0m_profile_one_layer\u001b[0m\u001b[0;34m(\u001b[0m\u001b[0mm\u001b[0m\u001b[0;34m,\u001b[0m \u001b[0mx\u001b[0m\u001b[0;34m,\u001b[0m \u001b[0mdt\u001b[0m\u001b[0;34m)\u001b[0m\u001b[0;34m\u001b[0m\u001b[0;34m\u001b[0m\u001b[0m\n\u001b[0;32m--> 158\u001b[0;31m             \u001b[0mx\u001b[0m \u001b[0;34m=\u001b[0m \u001b[0mm\u001b[0m\u001b[0;34m(\u001b[0m\u001b[0mx\u001b[0m\u001b[0;34m)\u001b[0m  \u001b[0;31m# run\u001b[0m\u001b[0;34m\u001b[0m\u001b[0;34m\u001b[0m\u001b[0m\n\u001b[0m\u001b[1;32m    159\u001b[0m             \u001b[0my\u001b[0m\u001b[0;34m.\u001b[0m\u001b[0mappend\u001b[0m\u001b[0;34m(\u001b[0m\u001b[0mx\u001b[0m \u001b[0;32mif\u001b[0m \u001b[0mm\u001b[0m\u001b[0;34m.\u001b[0m\u001b[0mi\u001b[0m \u001b[0;32min\u001b[0m \u001b[0mself\u001b[0m\u001b[0;34m.\u001b[0m\u001b[0msave\u001b[0m \u001b[0;32melse\u001b[0m \u001b[0;32mNone\u001b[0m\u001b[0;34m)\u001b[0m  \u001b[0;31m# save output\u001b[0m\u001b[0;34m\u001b[0m\u001b[0;34m\u001b[0m\u001b[0m\n\u001b[1;32m    160\u001b[0m             \u001b[0;32mif\u001b[0m \u001b[0mvisualize\u001b[0m\u001b[0;34m:\u001b[0m\u001b[0;34m\u001b[0m\u001b[0;34m\u001b[0m\u001b[0m\n",
            "\u001b[0;32m/usr/local/lib/python3.7/dist-packages/torch/nn/modules/module.py\u001b[0m in \u001b[0;36m_call_impl\u001b[0;34m(self, *input, **kwargs)\u001b[0m\n\u001b[1;32m   1108\u001b[0m         if not (self._backward_hooks or self._forward_hooks or self._forward_pre_hooks or _global_backward_hooks\n\u001b[1;32m   1109\u001b[0m                 or _global_forward_hooks or _global_forward_pre_hooks):\n\u001b[0;32m-> 1110\u001b[0;31m             \u001b[0;32mreturn\u001b[0m \u001b[0mforward_call\u001b[0m\u001b[0;34m(\u001b[0m\u001b[0;34m*\u001b[0m\u001b[0minput\u001b[0m\u001b[0;34m,\u001b[0m \u001b[0;34m**\u001b[0m\u001b[0mkwargs\u001b[0m\u001b[0;34m)\u001b[0m\u001b[0;34m\u001b[0m\u001b[0;34m\u001b[0m\u001b[0m\n\u001b[0m\u001b[1;32m   1111\u001b[0m         \u001b[0;31m# Do not call functions when jit is used\u001b[0m\u001b[0;34m\u001b[0m\u001b[0;34m\u001b[0m\u001b[0;34m\u001b[0m\u001b[0m\n\u001b[1;32m   1112\u001b[0m         \u001b[0mfull_backward_hooks\u001b[0m\u001b[0;34m,\u001b[0m \u001b[0mnon_full_backward_hooks\u001b[0m \u001b[0;34m=\u001b[0m \u001b[0;34m[\u001b[0m\u001b[0;34m]\u001b[0m\u001b[0;34m,\u001b[0m \u001b[0;34m[\u001b[0m\u001b[0;34m]\u001b[0m\u001b[0;34m\u001b[0m\u001b[0;34m\u001b[0m\u001b[0m\n",
            "\u001b[0;32m/root/.cache/torch/hub/ultralytics_yolov5_master/models/common.py\u001b[0m in \u001b[0;36mforward\u001b[0;34m(self, x)\u001b[0m\n\u001b[1;32m    222\u001b[0m             \u001b[0my1\u001b[0m \u001b[0;34m=\u001b[0m \u001b[0mself\u001b[0m\u001b[0;34m.\u001b[0m\u001b[0mm\u001b[0m\u001b[0;34m(\u001b[0m\u001b[0mx\u001b[0m\u001b[0;34m)\u001b[0m\u001b[0;34m\u001b[0m\u001b[0;34m\u001b[0m\u001b[0m\n\u001b[1;32m    223\u001b[0m             \u001b[0my2\u001b[0m \u001b[0;34m=\u001b[0m \u001b[0mself\u001b[0m\u001b[0;34m.\u001b[0m\u001b[0mm\u001b[0m\u001b[0;34m(\u001b[0m\u001b[0my1\u001b[0m\u001b[0;34m)\u001b[0m\u001b[0;34m\u001b[0m\u001b[0;34m\u001b[0m\u001b[0m\n\u001b[0;32m--> 224\u001b[0;31m             \u001b[0;32mreturn\u001b[0m \u001b[0mself\u001b[0m\u001b[0;34m.\u001b[0m\u001b[0mcv2\u001b[0m\u001b[0;34m(\u001b[0m\u001b[0mtorch\u001b[0m\u001b[0;34m.\u001b[0m\u001b[0mcat\u001b[0m\u001b[0;34m(\u001b[0m\u001b[0;34m(\u001b[0m\u001b[0mx\u001b[0m\u001b[0;34m,\u001b[0m \u001b[0my1\u001b[0m\u001b[0;34m,\u001b[0m \u001b[0my2\u001b[0m\u001b[0;34m,\u001b[0m \u001b[0mself\u001b[0m\u001b[0;34m.\u001b[0m\u001b[0mm\u001b[0m\u001b[0;34m(\u001b[0m\u001b[0my2\u001b[0m\u001b[0;34m)\u001b[0m\u001b[0;34m)\u001b[0m\u001b[0;34m,\u001b[0m \u001b[0;36m1\u001b[0m\u001b[0;34m)\u001b[0m\u001b[0;34m)\u001b[0m\u001b[0;34m\u001b[0m\u001b[0;34m\u001b[0m\u001b[0m\n\u001b[0m\u001b[1;32m    225\u001b[0m \u001b[0;34m\u001b[0m\u001b[0m\n\u001b[1;32m    226\u001b[0m \u001b[0;34m\u001b[0m\u001b[0m\n",
            "\u001b[0;31mKeyboardInterrupt\u001b[0m: "
          ]
        }
      ]
    },
    {
      "cell_type": "code",
      "execution_count": null,
      "metadata": {
        "id": "2-fPQSHL1Hz7"
      },
      "outputs": [],
      "source": [
        ""
      ]
    },
    {
      "cell_type": "code",
      "execution_count": null,
      "metadata": {
        "id": "ei89jewO1Hv5"
      },
      "outputs": [],
      "source": [
        ""
      ]
    },
    {
      "cell_type": "code",
      "execution_count": null,
      "metadata": {
        "id": "RJWDpCHwGK3i"
      },
      "outputs": [],
      "source": [
        ""
      ]
    }
  ],
  "metadata": {
    "colab": {
      "collapsed_sections": [],
      "name": "Execution comp_vision_cat(4 June).ipynb",
      "provenance": [],
      "authorship_tag": "ABX9TyNVcx25dLyQtEey/kJrRqPm",
      "include_colab_link": true
    },
    "kernelspec": {
      "display_name": "Python 3",
      "name": "python3"
    },
    "language_info": {
      "name": "python"
    },
    "accelerator": "GPU",
    "widgets": {
      "application/vnd.jupyter.widget-state+json": {
        "14df307bd9954cd7b04d99404ca33de0": {
          "model_module": "@jupyter-widgets/controls",
          "model_name": "HBoxModel",
          "model_module_version": "1.5.0",
          "state": {
            "_dom_classes": [],
            "_model_module": "@jupyter-widgets/controls",
            "_model_module_version": "1.5.0",
            "_model_name": "HBoxModel",
            "_view_count": null,
            "_view_module": "@jupyter-widgets/controls",
            "_view_module_version": "1.5.0",
            "_view_name": "HBoxView",
            "box_style": "",
            "children": [
              "IPY_MODEL_613572891613479792246093bb66625c",
              "IPY_MODEL_e5795d22f0614e85a73dbb750560d048",
              "IPY_MODEL_dcba0956828b4205bbbe5e4c6ac80313"
            ],
            "layout": "IPY_MODEL_10a54a3602e24a929e555a2dfcd53b37"
          }
        },
        "613572891613479792246093bb66625c": {
          "model_module": "@jupyter-widgets/controls",
          "model_name": "HTMLModel",
          "model_module_version": "1.5.0",
          "state": {
            "_dom_classes": [],
            "_model_module": "@jupyter-widgets/controls",
            "_model_module_version": "1.5.0",
            "_model_name": "HTMLModel",
            "_view_count": null,
            "_view_module": "@jupyter-widgets/controls",
            "_view_module_version": "1.5.0",
            "_view_name": "HTMLView",
            "description": "",
            "description_tooltip": null,
            "layout": "IPY_MODEL_c2fbe6ba0f4e4f6fbddf271a81d29546",
            "placeholder": "​",
            "style": "IPY_MODEL_e16e4337c2be4bb880554ce116b113dc",
            "value": "100%"
          }
        },
        "e5795d22f0614e85a73dbb750560d048": {
          "model_module": "@jupyter-widgets/controls",
          "model_name": "FloatProgressModel",
          "model_module_version": "1.5.0",
          "state": {
            "_dom_classes": [],
            "_model_module": "@jupyter-widgets/controls",
            "_model_module_version": "1.5.0",
            "_model_name": "FloatProgressModel",
            "_view_count": null,
            "_view_module": "@jupyter-widgets/controls",
            "_view_module_version": "1.5.0",
            "_view_name": "ProgressView",
            "bar_style": "success",
            "description": "",
            "description_tooltip": null,
            "layout": "IPY_MODEL_90c10d323748463a82e32bef2f065358",
            "max": 14808437,
            "min": 0,
            "orientation": "horizontal",
            "style": "IPY_MODEL_f12566fd42eb41099e521f8cfeb2b61a",
            "value": 14808437
          }
        },
        "dcba0956828b4205bbbe5e4c6ac80313": {
          "model_module": "@jupyter-widgets/controls",
          "model_name": "HTMLModel",
          "model_module_version": "1.5.0",
          "state": {
            "_dom_classes": [],
            "_model_module": "@jupyter-widgets/controls",
            "_model_module_version": "1.5.0",
            "_model_name": "HTMLModel",
            "_view_count": null,
            "_view_module": "@jupyter-widgets/controls",
            "_view_module_version": "1.5.0",
            "_view_name": "HTMLView",
            "description": "",
            "description_tooltip": null,
            "layout": "IPY_MODEL_1290d11f202d4f1a85217e8c811b4c90",
            "placeholder": "​",
            "style": "IPY_MODEL_2213d05cd00649ddab42349a21a4a030",
            "value": " 14.1M/14.1M [00:00&lt;00:00, 50.1MB/s]"
          }
        },
        "10a54a3602e24a929e555a2dfcd53b37": {
          "model_module": "@jupyter-widgets/base",
          "model_name": "LayoutModel",
          "model_module_version": "1.2.0",
          "state": {
            "_model_module": "@jupyter-widgets/base",
            "_model_module_version": "1.2.0",
            "_model_name": "LayoutModel",
            "_view_count": null,
            "_view_module": "@jupyter-widgets/base",
            "_view_module_version": "1.2.0",
            "_view_name": "LayoutView",
            "align_content": null,
            "align_items": null,
            "align_self": null,
            "border": null,
            "bottom": null,
            "display": null,
            "flex": null,
            "flex_flow": null,
            "grid_area": null,
            "grid_auto_columns": null,
            "grid_auto_flow": null,
            "grid_auto_rows": null,
            "grid_column": null,
            "grid_gap": null,
            "grid_row": null,
            "grid_template_areas": null,
            "grid_template_columns": null,
            "grid_template_rows": null,
            "height": null,
            "justify_content": null,
            "justify_items": null,
            "left": null,
            "margin": null,
            "max_height": null,
            "max_width": null,
            "min_height": null,
            "min_width": null,
            "object_fit": null,
            "object_position": null,
            "order": null,
            "overflow": null,
            "overflow_x": null,
            "overflow_y": null,
            "padding": null,
            "right": null,
            "top": null,
            "visibility": null,
            "width": null
          }
        },
        "c2fbe6ba0f4e4f6fbddf271a81d29546": {
          "model_module": "@jupyter-widgets/base",
          "model_name": "LayoutModel",
          "model_module_version": "1.2.0",
          "state": {
            "_model_module": "@jupyter-widgets/base",
            "_model_module_version": "1.2.0",
            "_model_name": "LayoutModel",
            "_view_count": null,
            "_view_module": "@jupyter-widgets/base",
            "_view_module_version": "1.2.0",
            "_view_name": "LayoutView",
            "align_content": null,
            "align_items": null,
            "align_self": null,
            "border": null,
            "bottom": null,
            "display": null,
            "flex": null,
            "flex_flow": null,
            "grid_area": null,
            "grid_auto_columns": null,
            "grid_auto_flow": null,
            "grid_auto_rows": null,
            "grid_column": null,
            "grid_gap": null,
            "grid_row": null,
            "grid_template_areas": null,
            "grid_template_columns": null,
            "grid_template_rows": null,
            "height": null,
            "justify_content": null,
            "justify_items": null,
            "left": null,
            "margin": null,
            "max_height": null,
            "max_width": null,
            "min_height": null,
            "min_width": null,
            "object_fit": null,
            "object_position": null,
            "order": null,
            "overflow": null,
            "overflow_x": null,
            "overflow_y": null,
            "padding": null,
            "right": null,
            "top": null,
            "visibility": null,
            "width": null
          }
        },
        "e16e4337c2be4bb880554ce116b113dc": {
          "model_module": "@jupyter-widgets/controls",
          "model_name": "DescriptionStyleModel",
          "model_module_version": "1.5.0",
          "state": {
            "_model_module": "@jupyter-widgets/controls",
            "_model_module_version": "1.5.0",
            "_model_name": "DescriptionStyleModel",
            "_view_count": null,
            "_view_module": "@jupyter-widgets/base",
            "_view_module_version": "1.2.0",
            "_view_name": "StyleView",
            "description_width": ""
          }
        },
        "90c10d323748463a82e32bef2f065358": {
          "model_module": "@jupyter-widgets/base",
          "model_name": "LayoutModel",
          "model_module_version": "1.2.0",
          "state": {
            "_model_module": "@jupyter-widgets/base",
            "_model_module_version": "1.2.0",
            "_model_name": "LayoutModel",
            "_view_count": null,
            "_view_module": "@jupyter-widgets/base",
            "_view_module_version": "1.2.0",
            "_view_name": "LayoutView",
            "align_content": null,
            "align_items": null,
            "align_self": null,
            "border": null,
            "bottom": null,
            "display": null,
            "flex": null,
            "flex_flow": null,
            "grid_area": null,
            "grid_auto_columns": null,
            "grid_auto_flow": null,
            "grid_auto_rows": null,
            "grid_column": null,
            "grid_gap": null,
            "grid_row": null,
            "grid_template_areas": null,
            "grid_template_columns": null,
            "grid_template_rows": null,
            "height": null,
            "justify_content": null,
            "justify_items": null,
            "left": null,
            "margin": null,
            "max_height": null,
            "max_width": null,
            "min_height": null,
            "min_width": null,
            "object_fit": null,
            "object_position": null,
            "order": null,
            "overflow": null,
            "overflow_x": null,
            "overflow_y": null,
            "padding": null,
            "right": null,
            "top": null,
            "visibility": null,
            "width": null
          }
        },
        "f12566fd42eb41099e521f8cfeb2b61a": {
          "model_module": "@jupyter-widgets/controls",
          "model_name": "ProgressStyleModel",
          "model_module_version": "1.5.0",
          "state": {
            "_model_module": "@jupyter-widgets/controls",
            "_model_module_version": "1.5.0",
            "_model_name": "ProgressStyleModel",
            "_view_count": null,
            "_view_module": "@jupyter-widgets/base",
            "_view_module_version": "1.2.0",
            "_view_name": "StyleView",
            "bar_color": null,
            "description_width": ""
          }
        },
        "1290d11f202d4f1a85217e8c811b4c90": {
          "model_module": "@jupyter-widgets/base",
          "model_name": "LayoutModel",
          "model_module_version": "1.2.0",
          "state": {
            "_model_module": "@jupyter-widgets/base",
            "_model_module_version": "1.2.0",
            "_model_name": "LayoutModel",
            "_view_count": null,
            "_view_module": "@jupyter-widgets/base",
            "_view_module_version": "1.2.0",
            "_view_name": "LayoutView",
            "align_content": null,
            "align_items": null,
            "align_self": null,
            "border": null,
            "bottom": null,
            "display": null,
            "flex": null,
            "flex_flow": null,
            "grid_area": null,
            "grid_auto_columns": null,
            "grid_auto_flow": null,
            "grid_auto_rows": null,
            "grid_column": null,
            "grid_gap": null,
            "grid_row": null,
            "grid_template_areas": null,
            "grid_template_columns": null,
            "grid_template_rows": null,
            "height": null,
            "justify_content": null,
            "justify_items": null,
            "left": null,
            "margin": null,
            "max_height": null,
            "max_width": null,
            "min_height": null,
            "min_width": null,
            "object_fit": null,
            "object_position": null,
            "order": null,
            "overflow": null,
            "overflow_x": null,
            "overflow_y": null,
            "padding": null,
            "right": null,
            "top": null,
            "visibility": null,
            "width": null
          }
        },
        "2213d05cd00649ddab42349a21a4a030": {
          "model_module": "@jupyter-widgets/controls",
          "model_name": "DescriptionStyleModel",
          "model_module_version": "1.5.0",
          "state": {
            "_model_module": "@jupyter-widgets/controls",
            "_model_module_version": "1.5.0",
            "_model_name": "DescriptionStyleModel",
            "_view_count": null,
            "_view_module": "@jupyter-widgets/base",
            "_view_module_version": "1.2.0",
            "_view_name": "StyleView",
            "description_width": ""
          }
        }
      }
    }
  },
  "nbformat": 4,
  "nbformat_minor": 0
}