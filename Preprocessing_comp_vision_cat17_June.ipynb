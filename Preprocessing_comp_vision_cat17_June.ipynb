{
  "nbformat": 4,
  "nbformat_minor": 0,
  "metadata": {
    "colab": {
      "name": "Preprocessing_comp_vision_cat17_June.ipynb",
      "provenance": [],
      "collapsed_sections": [],
      "include_colab_link": true
    },
    "kernelspec": {
      "name": "python3",
      "display_name": "Python 3"
    },
    "language_info": {
      "name": "python"
    }
  },
  "cells": [
    {
      "cell_type": "markdown",
      "metadata": {
        "id": "view-in-github",
        "colab_type": "text"
      },
      "source": [
        "<a href=\"https://colab.research.google.com/github/adryduty/computer-vision-cat-project/blob/main/Preprocessing_comp_vision_cat17_June.ipynb\" target=\"_parent\"><img src=\"https://colab.research.google.com/assets/colab-badge.svg\" alt=\"Open In Colab\"/></a>"
      ]
    },
    {
      "cell_type": "code",
      "source": [
        "import numpy as np    \n",
        "from PIL import Image\n",
        "from google.colab import files, drive\n",
        "import matplotlib.pyplot as plt\n",
        "import matplotlib.ticker as plticker\n",
        "import time\n",
        "import matplotlib.patches as patches\n",
        "import pandas as pd"
      ],
      "metadata": {
        "id": "CyE2wJ4UtR-m"
      },
      "execution_count": null,
      "outputs": []
    },
    {
      "cell_type": "markdown",
      "source": [
        "# Labelling (bounding box)\n",
        "### The idea is to create a n_cells*n_cells grid on the image to choose the rectangle around Ghiri (you just need to choose the upper left square and the bottom right square)."
      ],
      "metadata": {
        "id": "MxeJG2A8yM4V"
      }
    },
    {
      "cell_type": "code",
      "source": [
        "def label_maker(upper_left, bottom_right, n_cells):\n",
        "  '''\n",
        "  CONSIDER THAT YOU HAVE A n_cells*n_cells MATRIX AND THAT THE PIXELS ARE NORMALIZED TO 1 (they go from 0 to 1)\n",
        "\n",
        "  This function takes the upper left and the bottom right squares as input and returns:\n",
        "  - 0 (indicating the class: here is just 0 because we have just Ghiri)\n",
        "  - X_c (X coordinate of the center of the bounding box)\n",
        "  - Y_C (Y coordinate of the center of the bounding box)\n",
        "  - Width of the bounding box\n",
        "  - Height of the buonding box\n",
        "  '''\n",
        "  \n",
        "  if (bottom_right % n_cells) < (upper_left % n_cells): # To check if bottom_right is (wrong) at the left of upper_left (e.g. if n_cells=10, then upper_left=15 and bottom_right=43 would return an error: (15%10=5) > (43%10=3))\n",
        "    print(\"Wrong input: bottom_right is at the left of upper_left\")\n",
        "    return (0,0,0,0,0)\n",
        "    \n",
        "  elif (upper_left // n_cells) > (bottom_right // n_cells): # To check if upper_left is (wrong) below bottom_right (e.g. if n_cells=10, then upper_left=43 and bottom_right=15 would return an error (43//10=4)>(15//10=1))\n",
        "    print(\"Wrong input: upper_left is below bottom_right\")\n",
        "    return (0,0,0,0,0)\n",
        "\n",
        "  else:\n",
        "    num_squares_height = 1 + (bottom_right - upper_left) // n_cells\n",
        "    height = num_squares_height / n_cells\n",
        "\n",
        "    num_squares_width = 1 + (bottom_right - upper_left) % n_cells\n",
        "    width = num_squares_width / n_cells \n",
        "    x_a = (upper_left % n_cells + 0.5) / n_cells # upper left x coordinate\n",
        "    y_a = (upper_left // n_cells + 0.5) / n_cells # upper left y coordinate\n",
        "\n",
        "    x_b = (bottom_right % n_cells + 0.5) / n_cells # bottom right x coordinate\n",
        "    y_b = (bottom_right // n_cells + 0.5) / n_cells # bottom right x coordinate\n",
        "\n",
        "    x_c = (x_a + x_b)/2\n",
        "    y_c = (y_a + y_b)/2\n",
        "\n",
        "    return 0, x_c, y_c, width, height \n"
      ],
      "metadata": {
        "id": "aNGcajoat0FW"
      },
      "execution_count": null,
      "outputs": []
    },
    {
      "cell_type": "code",
      "source": [
        "def grid_image(google_path_image):\n",
        "  '''\n",
        "  This function takes as input the google path of the image you want to apply the grid onto.\n",
        "  The output is the picture with the squares. \n",
        "  '''\n",
        "  # Open image file\n",
        "  img = Image.open(google_path_image)\n",
        "  my_dpi=416.\n",
        "\n",
        "  img = img.resize(size=(416, 416))\n",
        "\n",
        "  # Set up figure\n",
        "  fig=plt.figure(figsize=(float(img.size[0])/my_dpi,float(img.size[1])/my_dpi),dpi=my_dpi)\n",
        "  ax=fig.add_subplot(111)\n",
        "\n",
        "  # Remove whitespace from around the image\n",
        "  fig.subplots_adjust(left=0,right=1,bottom=0,top=1)\n",
        "\n",
        "  # Set the gridding interval: here we use the major tick interval\n",
        "  myInterval= 20.8\n",
        "  loc = plticker.MultipleLocator(base=myInterval)\n",
        "  ax.xaxis.set_major_locator(loc)\n",
        "  ax.yaxis.set_major_locator(loc)\n",
        "\n",
        "  ax.tick_params(axis='x', colors=(0,0,0,0))\n",
        "  ax.tick_params(axis='y', colors=(0,0,0,0))\n",
        "\n",
        "  # Remove the borders \n",
        "  ax.spines['top'].set_visible(False) \n",
        "  ax.spines['right'].set_visible(False) \n",
        "  ax.spines['left'].set_visible(False)\n",
        "  ax.spines['bottom'].set_visible(False)\n",
        "\n",
        "  # Add the grid\n",
        "  ax.grid(which='major', axis='both', linestyle='-', linewidth=0.1)\n",
        "\n",
        "  # Add the image\n",
        "  ax.imshow(img)\n",
        "\n",
        "  # Find number of gridsquares in x and y direction\n",
        "  nx=abs(int(float(ax.get_xlim()[1]-ax.get_xlim()[0])/float(myInterval)))\n",
        "  ny=abs(int(float(ax.get_ylim()[1]-ax.get_ylim()[0])/float(myInterval)))\n",
        "\n",
        "  # Add some labels to the gridsquares\n",
        "  for j in range(ny):\n",
        "      y=myInterval/2+j * myInterval\n",
        "      for i in range(nx):\n",
        "          x=myInterval/2.+float(i) * myInterval\n",
        "          ax.text(x,y,'{:d}'.format(i+j*nx),color='w',ha='center',va='center', fontsize=1.4)\n",
        "\n",
        "  plt.show()\n",
        "\n"
      ],
      "metadata": {
        "id": "teBNY4GWtz9v"
      },
      "execution_count": null,
      "outputs": []
    },
    {
      "cell_type": "code",
      "source": [
        "def rectangle_coordinates(x_c, y_c, width, height):\n",
        "  '''\n",
        "  This function takes the coordinates of the rectangle's center and the width and the height of a\n",
        "  rectangle and returns the coordinates of the rectangle's bottom left angle and the width and the height\n",
        "  multiplied by 416. \n",
        "  \n",
        "  These coordinates will be important to make the rectangle (see the rectangle_maker function)\n",
        "  '''\n",
        "\n",
        "  x_bottom_left_angle = (x_c - width/2)*416\n",
        "\n",
        "  y_bottom_left_angle = (y_c - height/2)*416\n",
        "\n",
        "  width = width * 416\n",
        "\n",
        "  height = height * 416\n",
        "\n",
        "  return x_bottom_left_angle, y_bottom_left_angle, width, height\n",
        "\n"
      ],
      "metadata": {
        "id": "zKRoyWoItz42"
      },
      "execution_count": null,
      "outputs": []
    },
    {
      "cell_type": "code",
      "source": [
        "def rectangle_maker(google_path_image, x_c, y_c, width, height):\n",
        "\n",
        "  '''\n",
        "  This function takes a picture saved in colab, the coordinates of the centers of a rectangle, its width and its height.\n",
        "  It returns the image with the rectangle around Ghiri and also saved it on colab\n",
        "  '''\n",
        "\n",
        "  im = Image.open(google_path_image)\n",
        "  im = im.resize(size=(416,416))\n",
        "\n",
        "  # Create figure and axes\n",
        "  fig, ax = plt.subplots()\n",
        "  \n",
        "  x_left_angle, y_left_angle, denorm_width, denorm_height = rectangle_coordinates(x_c, y_c, width, height)\n",
        "  \n",
        "  # Create a Rectangle patch\n",
        "  rect = patches.Rectangle((x_left_angle, y_left_angle), denorm_width, denorm_height, linewidth=1, edgecolor='r', facecolor='none')\n",
        "\n",
        "  # Add the patch to the Axes\n",
        "  ax.add_patch(rect)\n",
        "\n",
        "  ax.tick_params(axis='x', colors=(0,0,0,0))\n",
        "  ax.tick_params(axis='y', colors=(0,0,0,0))\n",
        "\n",
        "  # Remove the borders \n",
        "  ax.spines['top'].set_visible(False) \n",
        "  ax.spines['right'].set_visible(False) \n",
        "  ax.spines['left'].set_visible(False)\n",
        "  ax.spines['bottom'].set_visible(False)\n",
        "\n",
        "  # Display the image\n",
        "  ax.imshow(im)\n",
        "\n",
        "  plt.savefig('/' + google_path_image.split(\"/\")[1]+'/with_rectangle_'+google_path_image.split(\"/\")[2])\n"
      ],
      "metadata": {
        "id": "GrU76XOdtz2K"
      },
      "execution_count": null,
      "outputs": []
    },
    {
      "cell_type": "markdown",
      "source": [
        "### The following chunk allows the user to insert the upper left and the bottom right squares to make the rectangles and so FOR LABELING. The labels will be stored into the **label_vector** list.\n",
        "\n",
        "#### Each label will be an array **['google_path', 'label', 'x_c', 'y_c', 'width', 'height']**"
      ],
      "metadata": {
        "id": "U_K5yxXQyk_X"
      }
    },
    {
      "cell_type": "code",
      "source": [
        "def labeler(path_list):\n",
        "  label_vector = []\n",
        "\n",
        "  for path in path_list:\n",
        "    grid_image(path)\n",
        "    time.sleep(3)\n",
        "    print(path)\n",
        "    upper_left = int(input(\"insert upper left square: \"))\n",
        "    bottom_right = int(input(\"insert bottom right square: \"))\n",
        "    \n",
        "    label, x_c, y_c, width, height = label_maker(upper_left, bottom_right, 20)\n",
        "    if (label, x_c, y_c, width, height) == (0,0,0,0,0):\n",
        "      print(\"You have to label again this image:\", path)\n",
        "\n",
        "    label_vector.append([path, label, x_c, y_c, width, height])\n",
        "    rectangle_maker(path, x_c, y_c, width, height)\n",
        "\n",
        "  return label_vector"
      ],
      "metadata": {
        "id": "ZO_Kc3CntzvJ"
      },
      "execution_count": null,
      "outputs": []
    },
    {
      "cell_type": "code",
      "source": [
        "path_list = []\n",
        "# for n in range(0,233):\n",
        "  # path_list.append(\"/content/img\" + str(n) + \".jpg\")"
      ],
      "metadata": {
        "id": "osy5PYwuI14L"
      },
      "execution_count": null,
      "outputs": []
    },
    {
      "cell_type": "code",
      "source": [
        "label_vector = labeler(path_list) # Define the path\n",
        "# Ask the user if it's all right\n",
        "answer = input(\"Are all the pictures correct? [YES/NO]\")\n",
        "# If not, then...\n",
        "if answer.lower() == \"no\":\n",
        "  \n",
        "# Insert the path of the pictures you're not satisfied with\n",
        "  while True:\n",
        "    print(\"Insert the path of those you’re not satisfied with. Write “stop” once you’re done\")\n",
        "    image = input(\"Insert path: \")\n",
        "    if image != \"stop\":\n",
        "      new_image = labeler([image])\n",
        "      label_vector.append(new_image[0])\n",
        "    else:\n",
        "      break\n",
        "\n",
        "# There may be some duplicates. Let's drop them.\n",
        "label_dataframe = pd.DataFrame(label_vector, columns = ['google_path', 'label', 'x_c', 'y_c', 'width', 'height'])\n",
        "label_dataframe = label_dataframe.drop_duplicates(subset=[\"google_path\"], keep='last', ignore_index=True)\n",
        "label_dataframe.to_csv('/content/label_dataframe.csv', index = False )"
      ],
      "metadata": {
        "id": "GniK2CMt9GOe"
      },
      "execution_count": null,
      "outputs": []
    }
  ]
}