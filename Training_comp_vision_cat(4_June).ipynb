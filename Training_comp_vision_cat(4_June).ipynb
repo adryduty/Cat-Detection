{
  "nbformat": 4,
  "nbformat_minor": 0,
  "metadata": {
    "colab": {
      "name": "Training comp_vision_cat(4 June).ipynb",
      "provenance": [],
      "collapsed_sections": [],
      "authorship_tag": "ABX9TyOtvqCWIcb28sr/g7xz2t1e",
      "include_colab_link": true
    },
    "kernelspec": {
      "name": "python3",
      "display_name": "Python 3"
    },
    "language_info": {
      "name": "python"
    }
  },
  "cells": [
    {
      "cell_type": "markdown",
      "metadata": {
        "id": "view-in-github",
        "colab_type": "text"
      },
      "source": [
        "<a href=\"https://colab.research.google.com/github/adryduty/computer-vision-cat-project/blob/main/Training_comp_vision_cat(4_June).ipynb\" target=\"_parent\"><img src=\"https://colab.research.google.com/assets/colab-badge.svg\" alt=\"Open In Colab\"/></a>"
      ]
    },
    {
      "cell_type": "markdown",
      "source": [
        "### The following chunk allows you to create a yolov5 folder with all the things you need."
      ],
      "metadata": {
        "id": "qHoO8Xzhzvk3"
      }
    },
    {
      "cell_type": "code",
      "execution_count": null,
      "metadata": {
        "id": "qAQo-kMtzkyH",
        "colab": {
          "base_uri": "https://localhost:8080/"
        },
        "outputId": "d3b84a25-342d-4c8e-b640-eda304fe0444"
      },
      "outputs": [
        {
          "output_type": "stream",
          "name": "stdout",
          "text": [
            "Cloning into 'yolov5'...\n",
            "remote: Enumerating objects: 12173, done.\u001b[K\n",
            "remote: Total 12173 (delta 0), reused 0 (delta 0), pack-reused 12173\u001b[K\n",
            "Receiving objects: 100% (12173/12173), 11.96 MiB | 24.01 MiB/s, done.\n",
            "Resolving deltas: 100% (8428/8428), done.\n",
            "/content/yolov5/yolov5\n",
            "Setup complete. Using torch 1.11.0+cu113 (CPU)\n"
          ]
        }
      ],
      "source": [
        "#clone YOLOv5 and \n",
        "!git clone https://github.com/ultralytics/yolov5  # clone repo\n",
        "%cd yolov5\n",
        "%pip install -qr requirements.txt # install dependencies\n",
        "%pip install -q roboflow\n",
        "\n",
        "import torch\n",
        "import os\n",
        "\n",
        "print(f\"Setup complete. Using torch {torch.__version__} ({torch.cuda.get_device_properties(0).name if torch.cuda.is_available() else 'CPU'})\")"
      ]
    },
    {
      "cell_type": "code",
      "source": [
        "from IPython.display import display, Javascript\n",
        "from google.colab.output import eval_js\n",
        "from base64 import b64decode\n",
        "import io\n",
        "import numpy as np    \n",
        "from PIL import Image\n",
        "import pickle\n",
        "from google.colab import files, drive\n",
        "import matplotlib.pyplot as plt\n",
        "import matplotlib.ticker as plticker\n",
        "import time\n",
        "import matplotlib.patches as patches\n",
        "import tensorflow as tf\n",
        "import pandas as pd\n",
        "import os\n",
        "import shutil\n",
        "from math import floor\n",
        "from sklearn.model_selection import train_test_split"
      ],
      "metadata": {
        "id": "pZGTWa-pz7qB"
      },
      "execution_count": null,
      "outputs": []
    },
    {
      "cell_type": "markdown",
      "source": [
        "# Recreating all the directories of roboflow before applying the yolov5"
      ],
      "metadata": {
        "id": "iaMsrERR0FI2"
      }
    },
    {
      "cell_type": "markdown",
      "source": [
        "### The following chunk creates empty folders"
      ],
      "metadata": {
        "id": "Sa3pueq20HUr"
      }
    },
    {
      "cell_type": "code",
      "source": [
        "path = \"/content/yolov5/Gatto-1\"\n",
        "os.mkdir(path)\n",
        "\n",
        "path = \"/content/yolov5/Gatto-1/test\"\n",
        "os.mkdir(path)\n",
        "path = \"/content/yolov5/Gatto-1/validation\"\n",
        "os.mkdir(path)\n",
        "path = \"/content/yolov5/Gatto-1/training\"\n",
        "os.mkdir(path)\n",
        "\n",
        "path = \"/content/yolov5/Gatto-1/test/images\"\n",
        "os.mkdir(path)\n",
        "path = \"/content/yolov5/Gatto-1/validation/images\"\n",
        "os.mkdir(path)\n",
        "path = \"/content/yolov5/Gatto-1/training/images\"\n",
        "os.mkdir(path)\n",
        "\n",
        "path = \"/content/yolov5/Gatto-1/test/labels\"\n",
        "os.mkdir(path)\n",
        "path = \"/content/yolov5/Gatto-1/validation/labels\"\n",
        "os.mkdir(path)\n",
        "path = \"/content/yolov5/Gatto-1/training/labels\"\n",
        "os.mkdir(path)"
      ],
      "metadata": {
        "id": "2FL5EIcXz7n7",
        "colab": {
          "base_uri": "https://localhost:8080/",
          "height": 232
        },
        "outputId": "f543afe3-daed-415f-9810-d355fcae579a"
      },
      "execution_count": null,
      "outputs": [
        {
          "output_type": "error",
          "ename": "FileExistsError",
          "evalue": "ignored",
          "traceback": [
            "\u001b[0;31m---------------------------------------------------------------------------\u001b[0m",
            "\u001b[0;31mFileExistsError\u001b[0m                           Traceback (most recent call last)",
            "\u001b[0;32m<ipython-input-27-05e8434a7963>\u001b[0m in \u001b[0;36m<module>\u001b[0;34m()\u001b[0m\n\u001b[1;32m      1\u001b[0m \u001b[0mpath\u001b[0m \u001b[0;34m=\u001b[0m \u001b[0;34m\"/content/yolov5/Gatto-1\"\u001b[0m\u001b[0;34m\u001b[0m\u001b[0;34m\u001b[0m\u001b[0m\n\u001b[0;32m----> 2\u001b[0;31m \u001b[0mos\u001b[0m\u001b[0;34m.\u001b[0m\u001b[0mmkdir\u001b[0m\u001b[0;34m(\u001b[0m\u001b[0mpath\u001b[0m\u001b[0;34m)\u001b[0m\u001b[0;34m\u001b[0m\u001b[0;34m\u001b[0m\u001b[0m\n\u001b[0m\u001b[1;32m      3\u001b[0m \u001b[0;34m\u001b[0m\u001b[0m\n\u001b[1;32m      4\u001b[0m \u001b[0mpath\u001b[0m \u001b[0;34m=\u001b[0m \u001b[0;34m\"/content/yolov5/Gatto-1/test\"\u001b[0m\u001b[0;34m\u001b[0m\u001b[0;34m\u001b[0m\u001b[0m\n\u001b[1;32m      5\u001b[0m \u001b[0mos\u001b[0m\u001b[0;34m.\u001b[0m\u001b[0mmkdir\u001b[0m\u001b[0;34m(\u001b[0m\u001b[0mpath\u001b[0m\u001b[0;34m)\u001b[0m\u001b[0;34m\u001b[0m\u001b[0;34m\u001b[0m\u001b[0m\n",
            "\u001b[0;31mFileExistsError\u001b[0m: [Errno 17] File exists: '/content/yolov5/Gatto-1'"
          ]
        }
      ]
    },
    {
      "cell_type": "code",
      "source": [
        "def file_path_changer(source, dest): \n",
        "  '''\n",
        "  This function moves the files from the path 'source' to the path 'dest'\n",
        "  '''\n",
        "  shutil.move(source, dest)\n"
      ],
      "metadata": {
        "id": "9sR0D5pRz7lm"
      },
      "execution_count": null,
      "outputs": []
    },
    {
      "cell_type": "code",
      "source": [
        "df = pd.read_csv(\"/content/label_154.csv\")"
      ],
      "metadata": {
        "id": "6hSsvTfbz7jg"
      },
      "execution_count": null,
      "outputs": []
    },
    {
      "cell_type": "code",
      "source": [
        "from sklearn.model_selection import train_test_split\n",
        "\n",
        "train, test = train_test_split(df, train_size = 0.7, test_size = 0.3, random_state = 42)\n",
        "\n",
        "validation, test = train_test_split(test, train_size = 0.66, test_size = 0.34, random_state = 42)\n",
        "\n",
        "train_labels = train.iloc[:, 1:].values\n",
        "valid_labels = validation.iloc[:, 1:].values\n",
        "test_labels = test.iloc[:, 1:].values\n",
        "\n",
        "train_im_list = list(train.iloc[:,0])\n",
        "valid_im_list = list(validation.iloc[:, 0])\n",
        "test_im_list = list(test.iloc[:, 0])"
      ],
      "metadata": {
        "id": "zMPIFEw_z7hK"
      },
      "execution_count": null,
      "outputs": []
    },
    {
      "cell_type": "markdown",
      "source": [
        "### The following chunk saves labels and image names in the proper folders (after having uploaded by hand)"
      ],
      "metadata": {
        "id": "yKXdXN9z0OyR"
      }
    },
    {
      "cell_type": "code",
      "source": [
        "for index in range(len(train_im_list)):\n",
        "  file_name = \"/content/yolov5/Gatto-1/training/labels/\" + list(train_im_list)[index].split(\"/\")[2].split(\".\")[0] + \".txt\"\n",
        "  f = open(file_name, \"w\")\n",
        "  f.write(str(train_labels[index])[1:-1])\n",
        "  f.close()\n",
        "\n",
        "\n",
        "for index in range(len(valid_im_list)):\n",
        "  file_name = \"/content/yolov5/Gatto-1/validation/labels/\" + list(train_im_list)[index].split(\"/\")[2].split(\".\")[0] + \".txt\"\n",
        "  f = open(file_name, \"w\")\n",
        "  f.write(str(train_labels[index])[1:-1])\n",
        "  f.close()\n",
        "\n",
        "\n",
        "for index in range(len(test_im_list)):\n",
        "  file_name = \"/content/yolov5/Gatto-1/test/labels/\" + list(train_im_list)[index].split(\"/\")[2].split(\".\")[0] + \".txt\"\n",
        "  f = open(file_name, \"w\")\n",
        "  f.write(str(train_labels[index])[1:-1])\n",
        "  f.close()"
      ],
      "metadata": {
        "id": "u9OkIlGBz7fD"
      },
      "execution_count": null,
      "outputs": []
    },
    {
      "cell_type": "markdown",
      "source": [
        "### Move the images from /content/imageName.jpg to the proper directory"
      ],
      "metadata": {
        "id": "qUsWW5bM0Syq"
      }
    },
    {
      "cell_type": "code",
      "source": [
        "for source in train_im_list:\n",
        "  dest = \"/content/yolov5/Gatto-1/training/images\"\n",
        "  file_path_changer(source, dest)\n",
        "\n",
        "for source in valid_im_list:\n",
        "  dest = \"/content/yolov5/Gatto-1/validation/images\"\n",
        "  file_path_changer(source, dest)\n",
        "\n",
        "for source in test_im_list:\n",
        "  dest = \"/content/yolov5/Gatto-1/test/images\"\n",
        "  file_path_changer(source, dest)"
      ],
      "metadata": {
        "id": "NzRDmkgFz7cx",
        "colab": {
          "base_uri": "https://localhost:8080/",
          "height": 375
        },
        "outputId": "a84311f1-eeb0-4fd0-9b6d-81d26bf6dc0a"
      },
      "execution_count": null,
      "outputs": [
        {
          "output_type": "error",
          "ename": "Error",
          "evalue": "ignored",
          "traceback": [
            "\u001b[0;31m---------------------------------------------------------------------------\u001b[0m",
            "\u001b[0;31mError\u001b[0m                                     Traceback (most recent call last)",
            "\u001b[0;32m<ipython-input-30-477cfd06a7ab>\u001b[0m in \u001b[0;36m<module>\u001b[0;34m()\u001b[0m\n\u001b[1;32m      1\u001b[0m \u001b[0;32mfor\u001b[0m \u001b[0msource\u001b[0m \u001b[0;32min\u001b[0m \u001b[0mtrain_im_list\u001b[0m\u001b[0;34m:\u001b[0m\u001b[0;34m\u001b[0m\u001b[0;34m\u001b[0m\u001b[0m\n\u001b[1;32m      2\u001b[0m   \u001b[0mdest\u001b[0m \u001b[0;34m=\u001b[0m \u001b[0;34m\"/content/yolov5/Gatto-1/training/images\"\u001b[0m\u001b[0;34m\u001b[0m\u001b[0;34m\u001b[0m\u001b[0m\n\u001b[0;32m----> 3\u001b[0;31m   \u001b[0mfile_path_changer\u001b[0m\u001b[0;34m(\u001b[0m\u001b[0msource\u001b[0m\u001b[0;34m,\u001b[0m \u001b[0mdest\u001b[0m\u001b[0;34m)\u001b[0m\u001b[0;34m\u001b[0m\u001b[0;34m\u001b[0m\u001b[0m\n\u001b[0m\u001b[1;32m      4\u001b[0m \u001b[0;34m\u001b[0m\u001b[0m\n\u001b[1;32m      5\u001b[0m \u001b[0;32mfor\u001b[0m \u001b[0msource\u001b[0m \u001b[0;32min\u001b[0m \u001b[0mvalid_im_list\u001b[0m\u001b[0;34m:\u001b[0m\u001b[0;34m\u001b[0m\u001b[0;34m\u001b[0m\u001b[0m\n",
            "\u001b[0;32m<ipython-input-28-5dc0a3dab8d3>\u001b[0m in \u001b[0;36mfile_path_changer\u001b[0;34m(source, dest)\u001b[0m\n\u001b[1;32m      3\u001b[0m   \u001b[0mThis\u001b[0m \u001b[0mfunction\u001b[0m \u001b[0mmoves\u001b[0m \u001b[0mthe\u001b[0m \u001b[0mfiles\u001b[0m \u001b[0;32mfrom\u001b[0m \u001b[0mthe\u001b[0m \u001b[0mpath\u001b[0m \u001b[0;34m'source'\u001b[0m \u001b[0mto\u001b[0m \u001b[0mthe\u001b[0m \u001b[0mpath\u001b[0m \u001b[0;34m'dest'\u001b[0m\u001b[0;34m\u001b[0m\u001b[0;34m\u001b[0m\u001b[0m\n\u001b[1;32m      4\u001b[0m   '''\n\u001b[0;32m----> 5\u001b[0;31m   \u001b[0mshutil\u001b[0m\u001b[0;34m.\u001b[0m\u001b[0mmove\u001b[0m\u001b[0;34m(\u001b[0m\u001b[0msource\u001b[0m\u001b[0;34m,\u001b[0m \u001b[0mdest\u001b[0m\u001b[0;34m)\u001b[0m\u001b[0;34m\u001b[0m\u001b[0;34m\u001b[0m\u001b[0m\n\u001b[0m",
            "\u001b[0;32m/usr/lib/python3.7/shutil.py\u001b[0m in \u001b[0;36mmove\u001b[0;34m(src, dst, copy_function)\u001b[0m\n\u001b[1;32m    562\u001b[0m         \u001b[0mreal_dst\u001b[0m \u001b[0;34m=\u001b[0m \u001b[0mos\u001b[0m\u001b[0;34m.\u001b[0m\u001b[0mpath\u001b[0m\u001b[0;34m.\u001b[0m\u001b[0mjoin\u001b[0m\u001b[0;34m(\u001b[0m\u001b[0mdst\u001b[0m\u001b[0;34m,\u001b[0m \u001b[0m_basename\u001b[0m\u001b[0;34m(\u001b[0m\u001b[0msrc\u001b[0m\u001b[0;34m)\u001b[0m\u001b[0;34m)\u001b[0m\u001b[0;34m\u001b[0m\u001b[0;34m\u001b[0m\u001b[0m\n\u001b[1;32m    563\u001b[0m         \u001b[0;32mif\u001b[0m \u001b[0mos\u001b[0m\u001b[0;34m.\u001b[0m\u001b[0mpath\u001b[0m\u001b[0;34m.\u001b[0m\u001b[0mexists\u001b[0m\u001b[0;34m(\u001b[0m\u001b[0mreal_dst\u001b[0m\u001b[0;34m)\u001b[0m\u001b[0;34m:\u001b[0m\u001b[0;34m\u001b[0m\u001b[0;34m\u001b[0m\u001b[0m\n\u001b[0;32m--> 564\u001b[0;31m             \u001b[0;32mraise\u001b[0m \u001b[0mError\u001b[0m\u001b[0;34m(\u001b[0m\u001b[0;34m\"Destination path '%s' already exists\"\u001b[0m \u001b[0;34m%\u001b[0m \u001b[0mreal_dst\u001b[0m\u001b[0;34m)\u001b[0m\u001b[0;34m\u001b[0m\u001b[0;34m\u001b[0m\u001b[0m\n\u001b[0m\u001b[1;32m    565\u001b[0m     \u001b[0;32mtry\u001b[0m\u001b[0;34m:\u001b[0m\u001b[0;34m\u001b[0m\u001b[0;34m\u001b[0m\u001b[0m\n\u001b[1;32m    566\u001b[0m         \u001b[0mos\u001b[0m\u001b[0;34m.\u001b[0m\u001b[0mrename\u001b[0m\u001b[0;34m(\u001b[0m\u001b[0msrc\u001b[0m\u001b[0;34m,\u001b[0m \u001b[0mreal_dst\u001b[0m\u001b[0;34m)\u001b[0m\u001b[0;34m\u001b[0m\u001b[0;34m\u001b[0m\u001b[0m\n",
            "\u001b[0;31mError\u001b[0m: Destination path '/content/yolov5/Gatto-1/training/images/013GHIRI.jpg' already exists"
          ]
        }
      ]
    },
    {
      "cell_type": "markdown",
      "source": [
        "### The following chunk is for the yaml"
      ],
      "metadata": {
        "id": "3bmGrwSr0Wbl"
      }
    },
    {
      "cell_type": "code",
      "source": [
        "data=open(\"/content/yolov5/Gatto-1/data.yaml\", \"w\")\n",
        "data.write(\"names:\\n- Cat1\\nnc: 1\\ntrain: /content/yolov5/Gatto-1/training/images\\nval: /content/yolov5/Gatto-1/validation/images\\n\")\n",
        "data.close()"
      ],
      "metadata": {
        "id": "h22GeFpIz7MI"
      },
      "execution_count": null,
      "outputs": []
    },
    {
      "cell_type": "markdown",
      "source": [
        "# Run the YOLOv5 (we used a yolov5s)"
      ],
      "metadata": {
        "id": "UPuwesZX0Z5F"
      }
    },
    {
      "cell_type": "code",
      "source": [
        "!python train.py --img 416 --batch 30 --epochs 300 --data /content/yolov5/Gatto-1/data.yaml --weights yolov5s.pt --cache"
      ],
      "metadata": {
        "id": "G626n5hd0XF5"
      },
      "execution_count": null,
      "outputs": []
    },
    {
      "cell_type": "markdown",
      "source": [
        "### Fit the model (by using the best.pt weights you have just got)"
      ],
      "metadata": {
        "id": "9Sc_iF8S0dho"
      }
    },
    {
      "cell_type": "code",
      "source": [
        "import torch\n",
        "\n",
        "model = torch.hub.load('ultralytics/yolov5', 'custom', \n",
        "                       path='/content/yolov5/runs/train/exp/weights/best.pt', force_reload=True)\n",
        "\n",
        "model.conf = 0.25\n",
        "model.iou = 0.45\n",
        "model.agnostic = False\n",
        "model.multi_label = False\n",
        "model.classes = None\n",
        "model.max_det = 1000\n",
        "model.amp = False\n",
        "\n",
        "# model = torch.hub.load('ultralytics/yolov5', 'yolov5s') # This is pretrained (200000 pictures)"
      ],
      "metadata": {
        "id": "q0lgbpMF0XDo",
        "colab": {
          "base_uri": "https://localhost:8080/"
        },
        "outputId": "0a248e18-63cc-4f17-c105-d01b910720a6"
      },
      "execution_count": null,
      "outputs": [
        {
          "output_type": "stream",
          "name": "stderr",
          "text": [
            "Downloading: \"https://github.com/ultralytics/yolov5/archive/master.zip\" to /root/.cache/torch/hub/master.zip\n",
            "\u001b[31m\u001b[1mrequirements:\u001b[0m PyYAML>=5.3.1 not found and is required by YOLOv5, attempting auto-update...\n",
            "Looking in indexes: https://pypi.org/simple, https://us-python.pkg.dev/colab-wheels/public/simple/\n",
            "Requirement already satisfied: PyYAML>=5.3.1 in /usr/local/lib/python3.7/dist-packages (6.0)\n",
            "\n",
            "\u001b[31m\u001b[1mrequirements:\u001b[0m 1 package updated per /root/.cache/torch/hub/ultralytics_yolov5_master/requirements.txt\n",
            "\u001b[31m\u001b[1mrequirements:\u001b[0m ⚠️ \u001b[1mRestart runtime or rerun command for updates to take effect\u001b[0m\n",
            "\n",
            "YOLOv5 🚀 2022-6-6 Python-3.7.13 torch-1.11.0+cu113 CPU\n",
            "\n",
            "Fusing layers... \n",
            "Model summary: 213 layers, 7012822 parameters, 0 gradients, 15.8 GFLOPs\n",
            "Adding AutoShape... \n"
          ]
        }
      ]
    },
    {
      "cell_type": "code",
      "source": [
        "for filename in os.listdir('/content/yolov5/Gatto-1/test/images'):\n",
        "  img = Image.open('/content/yolov5/Gatto-1/test/images/' + filename)\n",
        "  results = model(img)\n",
        "  results.save()"
      ],
      "metadata": {
        "id": "UdhP5emX0XBj",
        "colab": {
          "base_uri": "https://localhost:8080/"
        },
        "outputId": "53b5fc88-b613-4db6-d61d-65eed96157ef"
      },
      "execution_count": null,
      "outputs": [
        {
          "output_type": "stream",
          "name": "stderr",
          "text": [
            "Saved 1 image to \u001b[1mruns/detect/exp\u001b[0m\n",
            "Saved 1 image to \u001b[1mruns/detect/exp2\u001b[0m\n",
            "Saved 1 image to \u001b[1mruns/detect/exp3\u001b[0m\n",
            "Saved 1 image to \u001b[1mruns/detect/exp4\u001b[0m\n",
            "Saved 1 image to \u001b[1mruns/detect/exp5\u001b[0m\n",
            "Saved 1 image to \u001b[1mruns/detect/exp6\u001b[0m\n",
            "Saved 1 image to \u001b[1mruns/detect/exp7\u001b[0m\n",
            "Saved 1 image to \u001b[1mruns/detect/exp8\u001b[0m\n",
            "Saved 1 image to \u001b[1mruns/detect/exp9\u001b[0m\n",
            "Saved 1 image to \u001b[1mruns/detect/exp10\u001b[0m\n",
            "Saved 1 image to \u001b[1mruns/detect/exp11\u001b[0m\n",
            "Saved 1 image to \u001b[1mruns/detect/exp12\u001b[0m\n",
            "Saved 1 image to \u001b[1mruns/detect/exp13\u001b[0m\n",
            "Saved 1 image to \u001b[1mruns/detect/exp14\u001b[0m\n",
            "Saved 1 image to \u001b[1mruns/detect/exp15\u001b[0m\n",
            "Saved 1 image to \u001b[1mruns/detect/exp16\u001b[0m\n"
          ]
        }
      ]
    },
    {
      "cell_type": "code",
      "source": [
        "print(results.xywhn) # x center, y center, width, height, probability, class (ALL SCALED TO 1)\n",
        "print(results.xywh) # x center, y center, width, height, probability, class (ALL NOT SCALED TO 1)"
      ],
      "metadata": {
        "id": "IC0av3IC0W_N",
        "colab": {
          "base_uri": "https://localhost:8080/"
        },
        "outputId": "a0edece3-d484-4c7a-ea2a-8b1dde9fa340"
      },
      "execution_count": null,
      "outputs": [
        {
          "output_type": "stream",
          "name": "stdout",
          "text": [
            "[tensor([[0.60287, 0.26370, 0.31938, 0.32483, 0.87996, 0.00000]])]\n",
            "[tensor([[250.79568, 109.69796, 132.86078, 135.13115,   0.87996,   0.00000]])]\n"
          ]
        }
      ]
    },
    {
      "cell_type": "code",
      "source": [
        "results.xywhn[0][0][:5]"
      ],
      "metadata": {
        "id": "B7l16NQm0W9M",
        "colab": {
          "base_uri": "https://localhost:8080/"
        },
        "outputId": "f5c52259-dde1-46bd-94c5-2158005d0e11"
      },
      "execution_count": null,
      "outputs": [
        {
          "output_type": "execute_result",
          "data": {
            "text/plain": [
              "tensor([0.60287, 0.26370, 0.31938, 0.32483, 0.87996])"
            ]
          },
          "metadata": {},
          "execution_count": 44
        }
      ]
    }
  ]
}