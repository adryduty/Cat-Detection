{
  "nbformat": 4,
  "nbformat_minor": 0,
  "metadata": {
    "colab": {
      "name": "Training comp_vision_cat(4 June).ipynb",
      "provenance": [],
      "collapsed_sections": [],
      "authorship_tag": "ABX9TyNdBFL7Xj2g/H4IY3dNFsSF",
      "include_colab_link": true
    },
    "kernelspec": {
      "name": "python3",
      "display_name": "Python 3"
    },
    "language_info": {
      "name": "python"
    }
  },
  "cells": [
    {
      "cell_type": "markdown",
      "metadata": {
        "id": "view-in-github",
        "colab_type": "text"
      },
      "source": [
        "<a href=\"https://colab.research.google.com/github/adryduty/computer-vision-cat-project/blob/main/Training_comp_vision_cat(4_June).ipynb\" target=\"_parent\"><img src=\"https://colab.research.google.com/assets/colab-badge.svg\" alt=\"Open In Colab\"/></a>"
      ]
    },
    {
      "cell_type": "markdown",
      "source": [
        "### The following chunk allows you to create a yolov5 folder with all the things you need."
      ],
      "metadata": {
        "id": "qHoO8Xzhzvk3"
      }
    },
    {
      "cell_type": "code",
      "execution_count": null,
      "metadata": {
        "id": "qAQo-kMtzkyH"
      },
      "outputs": [],
      "source": [
        "#clone YOLOv5 and \n",
        "!git clone https://github.com/ultralytics/yolov5  # clone repo\n",
        "%cd yolov5\n",
        "%pip install -qr requirements.txt # install dependencies\n",
        "%pip install -q roboflow\n",
        "\n",
        "import torch\n",
        "import os\n",
        "\n",
        "print(f\"Setup complete. Using torch {torch.__version__} ({torch.cuda.get_device_properties(0).name if torch.cuda.is_available() else 'CPU'})\")"
      ]
    },
    {
      "cell_type": "code",
      "source": [
        "from IPython.display import display, Javascript\n",
        "from google.colab.output import eval_js\n",
        "from base64 import b64decode\n",
        "import io\n",
        "import numpy as np    \n",
        "from PIL import Image\n",
        "import pickle\n",
        "from google.colab import files, drive\n",
        "import matplotlib.pyplot as plt\n",
        "import matplotlib.ticker as plticker\n",
        "import time\n",
        "import matplotlib.patches as patches\n",
        "import tensorflow as tf\n",
        "import pandas as pd\n",
        "import os\n",
        "import shutil\n",
        "from math import floor\n",
        "from sklearn.model_selection import train_test_split"
      ],
      "metadata": {
        "id": "pZGTWa-pz7qB"
      },
      "execution_count": null,
      "outputs": []
    },
    {
      "cell_type": "markdown",
      "source": [
        "# Recreating all the directories of roboflow before applying the yolov5"
      ],
      "metadata": {
        "id": "iaMsrERR0FI2"
      }
    },
    {
      "cell_type": "markdown",
      "source": [
        "### The following chunk creates empty folders"
      ],
      "metadata": {
        "id": "Sa3pueq20HUr"
      }
    },
    {
      "cell_type": "code",
      "source": [
        "path = \"/content/yolov5/Gatto-1\"\n",
        "os.mkdir(path)\n",
        "\n",
        "path = \"/content/yolov5/Gatto-1/test\"\n",
        "os.mkdir(path)\n",
        "path = \"/content/yolov5/Gatto-1/validation\"\n",
        "os.mkdir(path)\n",
        "path = \"/content/yolov5/Gatto-1/training\"\n",
        "os.mkdir(path)\n",
        "\n",
        "path = \"/content/yolov5/Gatto-1/test/images\"\n",
        "os.mkdir(path)\n",
        "path = \"/content/yolov5/Gatto-1/validation/images\"\n",
        "os.mkdir(path)\n",
        "path = \"/content/yolov5/Gatto-1/training/images\"\n",
        "os.mkdir(path)\n",
        "\n",
        "path = \"/content/yolov5/Gatto-1/test/labels\"\n",
        "os.mkdir(path)\n",
        "path = \"/content/yolov5/Gatto-1/validation/labels\"\n",
        "os.mkdir(path)\n",
        "path = \"/content/yolov5/Gatto-1/training/labels\"\n",
        "os.mkdir(path)"
      ],
      "metadata": {
        "id": "2FL5EIcXz7n7"
      },
      "execution_count": null,
      "outputs": []
    },
    {
      "cell_type": "code",
      "source": [
        "def file_path_changer(source, dest): \n",
        "  '''\n",
        "  This function moves the files from the path 'source' to the path 'dest'\n",
        "  '''\n",
        "  shutil.move(source, dest)\n"
      ],
      "metadata": {
        "id": "9sR0D5pRz7lm"
      },
      "execution_count": null,
      "outputs": []
    },
    {
      "cell_type": "code",
      "source": [
        "df = pd.read_csv(\"/content/label_154.csv\")"
      ],
      "metadata": {
        "id": "6hSsvTfbz7jg"
      },
      "execution_count": null,
      "outputs": []
    },
    {
      "cell_type": "code",
      "source": [
        "from sklearn.model_selection import train_test_split\n",
        "\n",
        "train, test = train_test_split(df, train_size = 0.7, test_size = 0.3, random_state = 42)\n",
        "\n",
        "validation, test = train_test_split(test, train_size = 0.66, test_size = 0.34, random_state = 42)\n",
        "\n",
        "train_labels = train.iloc[:, 1:].values\n",
        "valid_labels = validation.iloc[:, 1:].values\n",
        "test_labels = test.iloc[:, 1:].values\n",
        "\n",
        "train_im_list = list(train.iloc[:,0])\n",
        "valid_im_list = list(validation.iloc[:, 0])\n",
        "test_im_list = list(test.iloc[:, 0])"
      ],
      "metadata": {
        "id": "zMPIFEw_z7hK"
      },
      "execution_count": null,
      "outputs": []
    },
    {
      "cell_type": "markdown",
      "source": [
        "### The following chunk saves labels and image names in the proper folders (after having uploaded by hand)"
      ],
      "metadata": {
        "id": "yKXdXN9z0OyR"
      }
    },
    {
      "cell_type": "code",
      "source": [
        "for index in range(len(train_im_list)):\n",
        "  file_name = \"/content/yolov5/Gatto-1/training/labels/\" + list(train_im_list)[index].split(\"/\")[2].split(\".\")[0] + \".txt\"\n",
        "  f = open(file_name, \"w\")\n",
        "  f.write(str(train_labels[index])[1:-1])\n",
        "  f.close()\n",
        "\n",
        "\n",
        "for index in range(len(valid_im_list)):\n",
        "  file_name = \"/content/yolov5/Gatto-1/validation/labels/\" + list(train_im_list)[index].split(\"/\")[2].split(\".\")[0] + \".txt\"\n",
        "  f = open(file_name, \"w\")\n",
        "  f.write(str(train_labels[index])[1:-1])\n",
        "  f.close()\n",
        "\n",
        "\n",
        "for index in range(len(test_im_list)):\n",
        "  file_name = \"/content/yolov5/Gatto-1/test/labels/\" + list(train_im_list)[index].split(\"/\")[2].split(\".\")[0] + \".txt\"\n",
        "  f = open(file_name, \"w\")\n",
        "  f.write(str(train_labels[index])[1:-1])\n",
        "  f.close()"
      ],
      "metadata": {
        "id": "u9OkIlGBz7fD"
      },
      "execution_count": null,
      "outputs": []
    },
    {
      "cell_type": "markdown",
      "source": [
        "### Move the images from /content/imageName.jpg to the proper directory"
      ],
      "metadata": {
        "id": "qUsWW5bM0Syq"
      }
    },
    {
      "cell_type": "code",
      "source": [
        "for source in train_im_list:\n",
        "  dest = \"/content/yolov5/Gatto-1/training/images\"\n",
        "  file_path_changer(source, dest)\n",
        "\n",
        "for source in valid_im_list:\n",
        "  dest = \"/content/yolov5/Gatto-1/validation/images\"\n",
        "  file_path_changer(source, dest)\n",
        "\n",
        "for source in test_im_list:\n",
        "  dest = \"/content/yolov5/Gatto-1/test/images\"\n",
        "  file_path_changer(source, dest)"
      ],
      "metadata": {
        "id": "NzRDmkgFz7cx"
      },
      "execution_count": null,
      "outputs": []
    },
    {
      "cell_type": "markdown",
      "source": [
        "### The following chunk is for the yaml"
      ],
      "metadata": {
        "id": "3bmGrwSr0Wbl"
      }
    },
    {
      "cell_type": "code",
      "source": [
        "data=open(\"/content/yolov5/Gatto-1/data.yaml\", \"w\")\n",
        "data.write(\"names:\\n- Cat1\\nnc: 1\\ntrain: /content/yolov5/Gatto-1/training/images\\nval: /content/yolov5/Gatto-1/validation/images\\n\")\n",
        "data.close()"
      ],
      "metadata": {
        "id": "h22GeFpIz7MI"
      },
      "execution_count": null,
      "outputs": []
    },
    {
      "cell_type": "markdown",
      "source": [
        "# Run the YOLOv5 (we used a yolov5s)"
      ],
      "metadata": {
        "id": "UPuwesZX0Z5F"
      }
    },
    {
      "cell_type": "code",
      "source": [
        "!python train.py --img 416 --batch 30 --epochs 300 --data /content/yolov5/Gatto-1/data.yaml --weights yolov5s.pt --cache"
      ],
      "metadata": {
        "id": "G626n5hd0XF5"
      },
      "execution_count": null,
      "outputs": []
    },
    {
      "cell_type": "markdown",
      "source": [
        "### Fit the model"
      ],
      "metadata": {
        "id": "9Sc_iF8S0dho"
      }
    },
    {
      "cell_type": "code",
      "source": [
        "import torch\n",
        "\n",
        "model = torch.hub.load('ultralytics/yolov5', 'custom', \n",
        "                       path='/content/yolov5/runs/train/exp/weights/best.pt', force_reload=True)\n",
        "\n",
        "model.conf = 0.25\n",
        "model.iou = 0.45\n",
        "model.agnostic = False\n",
        "model.multi_label = False\n",
        "model.classes = None\n",
        "model.max_det = 1000\n",
        "model.amp = False\n",
        "\n",
        "# model = torch.hub.load('ultralytics/yolov5', 'yolov5s') # This is pretrained (200000 pictures)"
      ],
      "metadata": {
        "id": "q0lgbpMF0XDo"
      },
      "execution_count": null,
      "outputs": []
    },
    {
      "cell_type": "code",
      "source": [
        "for filename in os.listdir('/content/yolov5/Gatto-1/test/images'):\n",
        "  img = Image.open('/content/yolov5/Gatto-1/test/images/' + filename)\n",
        "  results = model(img)\n",
        "  results.save()"
      ],
      "metadata": {
        "id": "UdhP5emX0XBj"
      },
      "execution_count": null,
      "outputs": []
    },
    {
      "cell_type": "code",
      "source": [
        ""
      ],
      "metadata": {
        "id": "IC0av3IC0W_N"
      },
      "execution_count": null,
      "outputs": []
    },
    {
      "cell_type": "code",
      "source": [
        ""
      ],
      "metadata": {
        "id": "B7l16NQm0W9M"
      },
      "execution_count": null,
      "outputs": []
    }
  ]
}