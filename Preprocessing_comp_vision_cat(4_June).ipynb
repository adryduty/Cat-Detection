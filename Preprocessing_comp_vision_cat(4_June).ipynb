{
  "nbformat": 4,
  "nbformat_minor": 0,
  "metadata": {
    "colab": {
      "name": "Preprocessing comp_vision_cat(4 June).ipynb",
      "provenance": [],
      "collapsed_sections": [],
      "authorship_tag": "ABX9TyMmWQelfv87R/wpntTkPlKk",
      "include_colab_link": true
    },
    "kernelspec": {
      "name": "python3",
      "display_name": "Python 3"
    },
    "language_info": {
      "name": "python"
    }
  },
  "cells": [
    {
      "cell_type": "markdown",
      "metadata": {
        "id": "view-in-github",
        "colab_type": "text"
      },
      "source": [
        "<a href=\"https://colab.research.google.com/github/adryduty/computer-vision-cat-project/blob/main/Preprocessing_comp_vision_cat(4_June).ipynb\" target=\"_parent\"><img src=\"https://colab.research.google.com/assets/colab-badge.svg\" alt=\"Open In Colab\"/></a>"
      ]
    },
    {
      "cell_type": "code",
      "source": [
        "from IPython.display import display, Javascript\n",
        "from google.colab.output import eval_js\n",
        "from base64 import b64decode\n",
        "import io\n",
        "import numpy as np    \n",
        "from PIL import Image\n",
        "import pickle\n",
        "from google.colab import files, drive\n",
        "import matplotlib.pyplot as plt\n",
        "import matplotlib.ticker as plticker\n",
        "import time\n",
        "import matplotlib.patches as patches\n",
        "import tensorflow as tf\n",
        "import pandas as pd\n",
        "import os\n",
        "import shutil\n",
        "from math import floor\n",
        "from sklearn.model_selection import train_test_split"
      ],
      "metadata": {
        "id": "CyE2wJ4UtR-m"
      },
      "execution_count": 1,
      "outputs": []
    },
    {
      "cell_type": "markdown",
      "source": [
        "# Here we are going to create some functions to take and save photos and to use them as input\n",
        "\n",
        "### Almost all the lines of code there are here need to be run just one time (after that you just work with the pictures you saved)."
      ],
      "metadata": {
        "id": "eRzUVUiZtYLt"
      }
    },
    {
      "cell_type": "code",
      "source": [
        "def take_photo(filename='photo.jpg', quality=0.8):\n",
        "  '''\n",
        "  This function creates a javascript function that takes a picture every 4000 milliseconds. \n",
        "  After that it displays the taken picture in the quality determined as argument, decode the picture in Base64 (binary) \n",
        "  and eventually returns the picture in binary.\n",
        "  '''\n",
        "  js = Javascript('''\n",
        "    async function takePhoto(quality) {\n",
        "      const div = document.createElement('div');\n",
        "      \n",
        "      const video = document.createElement('video');\n",
        "      video.style.display = 'block';\n",
        "      const stream = await navigator.mediaDevices.getUserMedia({video: true});\n",
        "\n",
        "      document.body.appendChild(div);\n",
        "      div.appendChild(video);\n",
        "      video.srcObject = stream;\n",
        "      await video.play();\n",
        "\n",
        "      // Resize the output to fit the video element.\n",
        "      google.colab.output.setIframeHeight(document.documentElement.scrollHeight, true);\n",
        "\n",
        "      \n",
        "      await new Promise(r => setTimeout(r, 2000));\n",
        "\n",
        "      const canvas = document.createElement('canvas');\n",
        "      canvas.width = video.videoWidth;\n",
        "      canvas.height = video.videoHeight;\n",
        "      canvas.getContext('2d').drawImage(video, 0, 0);\n",
        "      stream.getVideoTracks()[0].stop();\n",
        "      div.remove();\n",
        "      return canvas.toDataURL('image/jpeg', quality);\n",
        "    }\n",
        "    ''')\n",
        "  display(js)\n",
        "  data = eval_js('takePhoto({})'.format(quality))\n",
        "  binary = b64decode(data.split(',')[1])\n",
        "  return binary"
      ],
      "metadata": {
        "id": "WT7rvTt0tR8S"
      },
      "execution_count": null,
      "outputs": []
    },
    {
      "cell_type": "code",
      "source": [
        "def binary_to_numpy(binary):\n",
        "  '''\n",
        "  This function takes a picture coded in binary and transforms it as numpy array.\n",
        "  '''\n",
        "  img = Image.open(io.BytesIO(binary))\n",
        "  # display(img)\n",
        "  np_array = np.asarray(img)\n",
        "  return np_array"
      ],
      "metadata": {
        "id": "gxaOYZU4tR6M"
      },
      "execution_count": null,
      "outputs": []
    },
    {
      "cell_type": "markdown",
      "source": [
        "* Assign an empty list to photo_array (it will take the numpy arrays of the pictures);\n",
        "* Decide how many pictures to take and assign this number to num_of_pictures_to_take;\n",
        "* Iterate num_of_pictures_to_take times and every time append the taken picture (in numpy array) in the photo_array.\n",
        "* If the user doesn't have a webcam or if he doesn't grant the page permission to access it, return an error."
      ],
      "metadata": {
        "id": "Ck3H7yOmtpGv"
      }
    },
    {
      "cell_type": "code",
      "source": [
        "photo_array_6 = []\n",
        "\n",
        "num_of_pictures_to_take = 25\n",
        "\n",
        "for i in range(num_of_pictures_to_take):\n",
        "  try:\n",
        "    binary = take_photo()\n",
        "    # img = Image.fromarray(binary_to_numpy(binary)).resize((416, 416))\n",
        "    photo_array_6.append(binary_to_numpy(binary))\n",
        "    \n",
        "  except Exception as err:\n",
        "    # Errors will be thrown if the user does not have a webcam or if they do not\n",
        "    # grant the page permission to access it.\n",
        "    print(str(err))"
      ],
      "metadata": {
        "id": "JIc6czd5tR1f"
      },
      "execution_count": null,
      "outputs": []
    },
    {
      "cell_type": "code",
      "source": [
        "def show_image(np_array):\n",
        "  '''\n",
        "  This function takes a numpy array and displays the image relative to this numpy array.\n",
        "  '''\n",
        "  display(Image.fromarray(np_array))"
      ],
      "metadata": {
        "id": "JBMtjhm5tRzX"
      },
      "execution_count": null,
      "outputs": []
    },
    {
      "cell_type": "markdown",
      "source": [
        "#### See the images you have taken."
      ],
      "metadata": {
        "id": "CtfLOPZ7tuJt"
      }
    },
    {
      "cell_type": "code",
      "source": [
        "for i in range(len(photo_array_6)):\n",
        "  show_image(photo_array_6[i])\n",
        "  print(i)"
      ],
      "metadata": {
        "id": "yrwQ219PtRxA"
      },
      "execution_count": null,
      "outputs": []
    },
    {
      "cell_type": "markdown",
      "source": [
        "#### Choose the ones you want to keep and store them in photo_array_*_new"
      ],
      "metadata": {
        "id": "CfK5Xt6MtyEO"
      }
    },
    {
      "cell_type": "code",
      "source": [
        "photo_array_6_new = []\n",
        "\n",
        "for i in range(len(photo_array_6)):\n",
        "  if i not in [5,11,15,17,19,22]:\n",
        "    photo_array_6_new.append(photo_array_6[i])"
      ],
      "metadata": {
        "id": "2mBhRGxEt0Zs"
      },
      "execution_count": null,
      "outputs": []
    },
    {
      "cell_type": "markdown",
      "source": [
        "#### See the images you decided to keep"
      ],
      "metadata": {
        "id": "9IGXaTDxt3Ji"
      }
    },
    {
      "cell_type": "code",
      "source": [
        "for i in range(len(photo_array_6_new)):\n",
        "  show_image(photo_array_6_new[i])\n",
        "  print(i)"
      ],
      "metadata": {
        "id": "eMJr5P5-t0Xm"
      },
      "execution_count": null,
      "outputs": []
    },
    {
      "cell_type": "markdown",
      "source": [
        "#### Save them in a folder you have already created and assign to each picture a different name (in this case img***.jpg)"
      ],
      "metadata": {
        "id": "9QoXk8o3t6qO"
      }
    },
    {
      "cell_type": "code",
      "source": [
        "for i, image in enumerate(photo_array_6_new):\n",
        "  j = 144\n",
        "  img = Image.fromarray(image).resize((416, 416))\n",
        "  img.save('/content/to_andrea_6/img'+ str(j+i) + '.jpg')"
      ],
      "metadata": {
        "id": "p2Ppvpoet0VR"
      },
      "execution_count": null,
      "outputs": []
    },
    {
      "cell_type": "markdown",
      "source": [
        "#### Create a zip of the colab folder where you stored the pictures "
      ],
      "metadata": {
        "id": "PeqBePtAt9o5"
      }
    },
    {
      "cell_type": "code",
      "source": [
        "!zip -r /content/to_andrea_6.zip /content/to_andrea_6"
      ],
      "metadata": {
        "id": "T6vLC9bbt0S0"
      },
      "execution_count": null,
      "outputs": []
    },
    {
      "cell_type": "markdown",
      "source": [
        "#### Download the zip in the download repo of your local pc."
      ],
      "metadata": {
        "id": "2hO2EJ4suAbB"
      }
    },
    {
      "cell_type": "code",
      "source": [
        "files.download('/content/to_andrea_6.zip')"
      ],
      "metadata": {
        "id": "chKoWlFUt0QM"
      },
      "execution_count": null,
      "outputs": []
    },
    {
      "cell_type": "markdown",
      "source": [
        "#### The following functions aren't used anymore. They were used when we worked with pkl instead of jpg."
      ],
      "metadata": {
        "id": "-eh8KH41uDKY"
      }
    },
    {
      "cell_type": "code",
      "source": [
        "def save_in_local(sample_list, file_name):\n",
        "  '''\n",
        "  This function opens a file in the google colab and downloads it locally as pkl file (at the beginning\n",
        "  the taken pictures where on colab and so we needed to save them locally. We decided to store them as pkl \n",
        "  to save some space but it wasn't so efficient)\n",
        "  '''\n",
        "  file_name = \"/content/\" + file_name + \".pkl\"\n",
        "  open_file = open(file_name, \"wb\")\n",
        "  pickle.dump(sample_list, open_file)\n",
        "  open_file.close()\n",
        "  files.download(file_name)\n",
        "\n",
        "\n",
        "def read_from_local(file_name):\n",
        "  '''\n",
        "  This function takes a file from colab (so you need to upload the file from the disk to colab) and loads it\n",
        "  '''\n",
        "  file_name = \"/content/\" + file_name + \".pkl\"\n",
        "  open_file = open(file_name, \"rb\")\n",
        "  loaded_list = pickle.load(open_file)\n",
        "  open_file.close()\n",
        "  return loaded_list"
      ],
      "metadata": {
        "id": "JvQ5dvVit0Nj"
      },
      "execution_count": null,
      "outputs": []
    },
    {
      "cell_type": "code",
      "source": [
        "save_in_local(photo_array, \"PELUCHE_LUCE3\")"
      ],
      "metadata": {
        "id": "xCbC60y4t0Ku"
      },
      "execution_count": null,
      "outputs": []
    },
    {
      "cell_type": "code",
      "source": [
        "lista = read_from_local(\"GHIRI_LUCE2\")"
      ],
      "metadata": {
        "id": "7d_2pIUZt0IG"
      },
      "execution_count": null,
      "outputs": []
    },
    {
      "cell_type": "markdown",
      "source": [
        "# Labelling (bounding box)\n",
        "### The idea is to create a 20x20 grid on the image to choose the rectangle around Ghiri (you just need to choose the upper left square and the bottom right square).\n",
        "#### Notice that the considered images are resized to 416x416"
      ],
      "metadata": {
        "id": "MxeJG2A8yM4V"
      }
    },
    {
      "cell_type": "code",
      "source": [
        "def label_maker(upper_left, bottom_right, n_cells):\n",
        "  '''\n",
        "  CONSIDER THAT YOU HAVE A 20x20 MATRIX AND THAT THE PIXELS ARE NORMALIZED TO 1 (they go from 0 to 1)\n",
        "\n",
        "  This function takes the upper left and the bottom right squares as input and returns:\n",
        "  - 0 (indicating the class: here is just 0 because we have just Ghiri)\n",
        "  - X_c (X coordinate of the center of the bounding box)\n",
        "  - Y_C (Y coordinate of the center of the bounding box)\n",
        "  - Width of the bounding box\n",
        "  - Height of the buonding box\n",
        "  '''\n",
        "  \n",
        "  if (bottom_right % n_cells) < (upper_left % n_cells):\n",
        "    print(\"Wrong input\")\n",
        "    \n",
        "  elif (upper_left // n_cells) > (bottom_right // n_cells):\n",
        "    print(\"Wrong input\")\n",
        "\n",
        "  else:\n",
        "    num_squares_height = 1 + (bottom_right - upper_left) // n_cells\n",
        "    height = num_squares_height / n_cells\n",
        "\n",
        "    num_squares_width = 1 + (bottom_right - upper_left) % n_cells\n",
        "    width = num_squares_width / n_cells \n",
        "    x_a = (upper_left % n_cells + 0.5) / n_cells\n",
        "    y_a = (upper_left // n_cells + 0.5) / n_cells\n",
        "\n",
        "    x_b = (bottom_right % n_cells + 0.5) / n_cells\n",
        "    y_b = (bottom_right // n_cells + 0.5) / n_cells\n",
        "\n",
        "    x_c = (x_a + x_b)/2\n",
        "    y_c = (y_a + y_b)/2\n",
        "\n",
        "    return 0, x_c, y_c, width, height \n"
      ],
      "metadata": {
        "id": "aNGcajoat0FW"
      },
      "execution_count": null,
      "outputs": []
    },
    {
      "cell_type": "code",
      "source": [
        "# This is a 10x10 grid for just understanding how the above function works\n",
        "np.arange(10)+np.arange(0,100,10)[:,np.newaxis]"
      ],
      "metadata": {
        "id": "-LB04VPqt0C0"
      },
      "execution_count": null,
      "outputs": []
    },
    {
      "cell_type": "code",
      "source": [
        "label_maker(15,43,10)"
      ],
      "metadata": {
        "id": "0BDgAs3Ut0AL"
      },
      "execution_count": null,
      "outputs": []
    },
    {
      "cell_type": "code",
      "source": [
        "def grid_image(google_path_image):\n",
        "  '''\n",
        "  This function takes as input the google path of the image you want to apply the grid onto.\n",
        "  The output is the picture with the squares. \n",
        "  '''\n",
        "  # Open image file\n",
        "  img = Image.open(google_path_image)\n",
        "  my_dpi=416.\n",
        "\n",
        "  img = img.resize(size=(416, 416))\n",
        "\n",
        "  # Set up figure\n",
        "  fig=plt.figure(figsize=(float(img.size[0])/my_dpi,float(img.size[1])/my_dpi),dpi=my_dpi)\n",
        "  ax=fig.add_subplot(111)\n",
        "\n",
        "  # Remove whitespace from around the image\n",
        "  fig.subplots_adjust(left=0,right=1,bottom=0,top=1)\n",
        "\n",
        "  # Set the gridding interval: here we use the major tick interval\n",
        "  myInterval= 20.8\n",
        "  loc = plticker.MultipleLocator(base=myInterval)\n",
        "  ax.xaxis.set_major_locator(loc)\n",
        "  ax.yaxis.set_major_locator(loc)\n",
        "\n",
        "  ax.tick_params(axis='x', colors=(0,0,0,0))\n",
        "  ax.tick_params(axis='y', colors=(0,0,0,0))\n",
        "\n",
        "  # Remove the borders \n",
        "  ax.spines['top'].set_visible(False) \n",
        "  ax.spines['right'].set_visible(False) \n",
        "  ax.spines['left'].set_visible(False)\n",
        "  ax.spines['bottom'].set_visible(False)\n",
        "\n",
        "  # Add the grid\n",
        "  ax.grid(which='major', axis='both', linestyle='-', linewidth=0.1)\n",
        "\n",
        "  # Add the image\n",
        "  ax.imshow(img)\n",
        "\n",
        "  # Find number of gridsquares in x and y direction\n",
        "  nx=abs(int(float(ax.get_xlim()[1]-ax.get_xlim()[0])/float(myInterval)))\n",
        "  ny=abs(int(float(ax.get_ylim()[1]-ax.get_ylim()[0])/float(myInterval)))\n",
        "\n",
        "  # Add some labels to the gridsquares\n",
        "  for j in range(ny):\n",
        "      y=myInterval/2+j * myInterval\n",
        "      for i in range(nx):\n",
        "          x=myInterval/2.+float(i) * myInterval\n",
        "          ax.text(x,y,'{:d}'.format(i+j*nx),color='w',ha='center',va='center', fontsize=1.4)\n",
        "\n",
        "  plt.show()\n",
        "\n",
        "grid_image('/content/27GHIRI.jpg')"
      ],
      "metadata": {
        "id": "teBNY4GWtz9v"
      },
      "execution_count": null,
      "outputs": []
    },
    {
      "cell_type": "code",
      "source": [
        "# THIS IS JUST A CHUNK FOR UNDERSTANDING WHAT'S NEXT (DRAWING A RECTANGLE AROUND GHIRI)\n",
        "\n",
        "im = Image.open('/content/27GHIRI.jpg')\n",
        "im = im.resize(size=(416,416))\n",
        "\n",
        "# Create figure and axes\n",
        "fig, ax = plt.subplots()\n",
        "\n",
        "# Display the image\n",
        "ax.imshow(im)\n",
        "\n",
        "# Create a Rectangle patch\n",
        "rect = patches.Rectangle((0.55*416, 0.75*416), 0.25*416, 0.2*416, linewidth=1, edgecolor='r', facecolor='none')\n",
        "\n",
        "# Add the patch to the Axes\n",
        "ax.add_patch(rect)\n",
        "\n",
        "plt.show()"
      ],
      "metadata": {
        "id": "WCcyrasctz7Q"
      },
      "execution_count": null,
      "outputs": []
    },
    {
      "cell_type": "code",
      "source": [
        "def rectangle_coordinates(x_c, y_c, width, height):\n",
        "  '''\n",
        "  This function takes the coordinates of the rectangle's center and the width and the height of a\n",
        "  rectangle and returns the coordinates of the rectangle's bottom left angle and the width and the height\n",
        "  multiplied by 416. \n",
        "  \n",
        "  These coordinates will be important to make the rectangle (see the rectangle_maker function)\n",
        "  '''\n",
        "\n",
        "  x_bottom_left_angle = (x_c - width/2)*416\n",
        "\n",
        "  y_bottom_left_angle = (y_c - height/2)*416\n",
        "\n",
        "  width = width * 416\n",
        "\n",
        "  height = height * 416\n",
        "\n",
        "  return x_bottom_left_angle, y_bottom_left_angle, width, height\n",
        "\n"
      ],
      "metadata": {
        "id": "zKRoyWoItz42"
      },
      "execution_count": null,
      "outputs": []
    },
    {
      "cell_type": "code",
      "source": [
        "def rectangle_maker(google_path_image, x_c, y_c, width, height):\n",
        "\n",
        "  '''\n",
        "  This function takes a picture saved in colab, the coordinates of the centers of a rectangle, its width and its height.\n",
        "  It returns the image with the rectangle around Ghiri and also saved it on colab\n",
        "  '''\n",
        "\n",
        "  im = Image.open(google_path_image)\n",
        "  im = im.resize(size=(416,416))\n",
        "\n",
        "  # Create figure and axes\n",
        "  fig, ax = plt.subplots()\n",
        "  \n",
        "  x_left_angle, y_left_angle, denorm_width, denorm_height = rectangle_coordinates(x_c, y_c, width, height)\n",
        "  \n",
        "  # Create a Rectangle patch\n",
        "  rect = patches.Rectangle((x_left_angle, y_left_angle), denorm_width, denorm_height, linewidth=1, edgecolor='r', facecolor='none')\n",
        "\n",
        "  # Add the patch to the Axes\n",
        "  ax.add_patch(rect)\n",
        "\n",
        "  ax.tick_params(axis='x', colors=(0,0,0,0))\n",
        "  ax.tick_params(axis='y', colors=(0,0,0,0))\n",
        "\n",
        "  # Remove the borders \n",
        "  ax.spines['top'].set_visible(False) \n",
        "  ax.spines['right'].set_visible(False) \n",
        "  ax.spines['left'].set_visible(False)\n",
        "  ax.spines['bottom'].set_visible(False)\n",
        "\n",
        "  # Display the image\n",
        "  ax.imshow(im)\n",
        "\n",
        "  plt.savefig('/' + google_path_image.split(\"/\")[1]+'/with_rectangle_'+google_path_image.split(\"/\")[2])\n"
      ],
      "metadata": {
        "id": "GrU76XOdtz2K"
      },
      "execution_count": null,
      "outputs": []
    },
    {
      "cell_type": "code",
      "source": [
        "rectangle_maker('/content/27GHIRI.jpg', 0.6499999999999999, 0.8500000000000001, 0.25, 0.2)"
      ],
      "metadata": {
        "id": "XNbmj1fUtzzt"
      },
      "execution_count": null,
      "outputs": []
    },
    {
      "cell_type": "markdown",
      "source": [
        "### Let's create a list with all the names of the pictures saved on colab (by hand)"
      ],
      "metadata": {
        "id": "sNbQIHLPyfZc"
      }
    },
    {
      "cell_type": "code",
      "source": [
        "path_list = []\n",
        "numbers = ['00','01', '02', '03', '04','05','06','07','08','09',10,11,12,13,14,15,16,17,20,21,22,23,\n",
        "             24,25,26,27,28,29,30,31,32,33,34,35,36,37,38,39,'010','011','012','013','014','015','016','017',\n",
        "             210,211,212,213,214,310,311,312,313]\n",
        "for number in numbers:\n",
        "  path_list.append(\"/content/\" + str(number) + \"GHIRI.jpg\")"
      ],
      "metadata": {
        "id": "NEsyaO6VtzxE"
      },
      "execution_count": null,
      "outputs": []
    },
    {
      "cell_type": "markdown",
      "source": [
        "### The following chunk allows the user to insert the upper left and the bottom right squares to make the rectangles and so FOR LABELING. The labels will be stored into the **label_vector** list.\n",
        "\n",
        "#### Each label will be an array **['google_path', 'label', 'x_c', 'y_c', 'width', 'height']**"
      ],
      "metadata": {
        "id": "U_K5yxXQyk_X"
      }
    },
    {
      "cell_type": "code",
      "source": [
        "label_vector = []\n",
        "\n",
        "for path in path_list:\n",
        "\n",
        "  grid_image(path)\n",
        "\n",
        "  time.sleep(3)\n",
        "\n",
        "  upper_left = int(input(\"insert upper left square: \"))\n",
        "\n",
        "  bottom_right = int(input(\"insert bottom right square: \"))\n",
        "  \n",
        "  label, x_c, y_c, width, height = label_maker(upper_left, bottom_right, 20)\n",
        "\n",
        "  label_vector.append([path, label, x_c, y_c, width, height])\n",
        "\n",
        "  rectangle_maker(path, x_c, y_c, width, height)"
      ],
      "metadata": {
        "id": "ZO_Kc3CntzvJ"
      },
      "execution_count": null,
      "outputs": []
    },
    {
      "cell_type": "markdown",
      "source": [
        "### Transform the label_vecor into a dataframe and store it as csv "
      ],
      "metadata": {
        "id": "hR29QuFlyqzJ"
      }
    },
    {
      "cell_type": "code",
      "source": [
        "label_dataframe = pd.DataFrame(label_vector, columns = ['google_path', 'label', 'x_c', 'y_c', 'width', 'height'])\n",
        "label_dataframe.to_csv('/content/label_dataframe.csv', index = False )"
      ],
      "metadata": {
        "id": "klFyIUDhtzsW"
      },
      "execution_count": null,
      "outputs": []
    },
    {
      "cell_type": "markdown",
      "source": [
        "### The code above was just for 55 images. In the next one I concatenate the csv with 55 images with another csv with 99 images."
      ],
      "metadata": {
        "id": "9GK3NvIJyvj-"
      }
    },
    {
      "cell_type": "code",
      "source": [
        "label_55 = pd.read_csv('/content/label_dataframe.csv')\n",
        "label_99 = pd.read_csv('/content/label_dataframeTot.csv')\n",
        "\n",
        "label_154 = pd.concat([label_55, label_99])"
      ],
      "metadata": {
        "id": "i5eebW-dtzqC"
      },
      "execution_count": null,
      "outputs": []
    },
    {
      "cell_type": "code",
      "source": [
        "label_154 = pd.DataFrame(label_154, columns = ['google_path', 'label', 'x_c', 'y_c', 'width', 'height'])\n",
        "label_154.to_csv('/content/label_154.csv', index = False)"
      ],
      "metadata": {
        "id": "s76N8JUBtznl"
      },
      "execution_count": null,
      "outputs": []
    },
    {
      "cell_type": "code",
      "source": [
        ""
      ],
      "metadata": {
        "id": "8M3bw43AzIFJ"
      },
      "execution_count": null,
      "outputs": []
    }
  ]
}